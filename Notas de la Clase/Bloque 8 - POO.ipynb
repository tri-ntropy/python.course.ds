{
 "cells": [
  {
   "cell_type": "markdown",
   "id": "5e0542b2",
   "metadata": {},
   "source": [
    "# Programación Orientada a Objetos"
   ]
  },
  {
   "cell_type": "code",
   "execution_count": 188,
   "id": "f55d6aa9",
   "metadata": {},
   "outputs": [],
   "source": [
    "import numpy as np\n",
    "import matplotlib.pyplot as plt"
   ]
  },
  {
   "cell_type": "code",
   "execution_count": 189,
   "id": "59ea3559",
   "metadata": {},
   "outputs": [],
   "source": [
    "class Microondas:\n",
    "    def __init__(self, marca, potencia, estado = \"apagado\"):\n",
    "        self.marca = marca\n",
    "        self.potencia = potencia\n",
    "        self.estado = estado\n",
    "\n",
    "    def encender(self):\n",
    "        if self.estado == \"apagado\":\n",
    "            self.estado = \"prendido\"\n",
    "            print(f\"Se ha prendido el microondas {self.marca}\")\n",
    "        else:\n",
    "            print(F\"El microondas {self.marca} ya estaba prendido\")\n",
    "\n",
    "    def apagar(self):\n",
    "        if self.estado == \"prendido\":\n",
    "            self.estado = \"apagado\"\n",
    "            print(f\"Se ha apagado el microondas {self.marca}\")\n",
    "        else:\n",
    "            print(F\"El microondas {self.marca} ya estaba apagado\")\n",
    "\n",
    "    def calentar(self, segundos):\n",
    "        if self.estado == \"apagado\":\n",
    "            print(f\"Enciende primero el microoondas {self.marca}\")\n",
    "        else:\n",
    "            print(f\"Tu comida se calentará por {segundos} segundos\")\n",
    "            print(\"beep beep beep\")"
   ]
  },
  {
   "cell_type": "code",
   "execution_count": 190,
   "id": "acfa8b62",
   "metadata": {},
   "outputs": [
    {
     "data": {
      "text/plain": [
       "<__main__.Microondas at 0x7cd75243aa50>"
      ]
     },
     "execution_count": 190,
     "metadata": {},
     "output_type": "execute_result"
    }
   ],
   "source": [
    "Micro_LG = Microondas(\"LG\", \"Regular\")\n",
    "Micro_LG"
   ]
  },
  {
   "cell_type": "code",
   "execution_count": 191,
   "id": "0d60666b",
   "metadata": {},
   "outputs": [
    {
     "data": {
      "text/plain": [
       "'LG'"
      ]
     },
     "execution_count": 191,
     "metadata": {},
     "output_type": "execute_result"
    }
   ],
   "source": [
    "Micro_LG.marca"
   ]
  },
  {
   "cell_type": "code",
   "execution_count": 192,
   "id": "580e353d",
   "metadata": {},
   "outputs": [
    {
     "data": {
      "text/plain": [
       "'Regular'"
      ]
     },
     "execution_count": 192,
     "metadata": {},
     "output_type": "execute_result"
    }
   ],
   "source": [
    "Micro_LG.potencia"
   ]
  },
  {
   "cell_type": "code",
   "execution_count": 193,
   "id": "27e47b8e",
   "metadata": {},
   "outputs": [
    {
     "data": {
      "text/plain": [
       "'apagado'"
      ]
     },
     "execution_count": 193,
     "metadata": {},
     "output_type": "execute_result"
    }
   ],
   "source": [
    "Micro_LG.estado"
   ]
  },
  {
   "cell_type": "code",
   "execution_count": 194,
   "id": "6f6219fa",
   "metadata": {},
   "outputs": [
    {
     "name": "stdout",
     "output_type": "stream",
     "text": [
      "Se ha prendido el microondas LG\n"
     ]
    }
   ],
   "source": [
    "Micro_LG.encender()"
   ]
  },
  {
   "cell_type": "code",
   "execution_count": 195,
   "id": "1ecbb701",
   "metadata": {},
   "outputs": [
    {
     "data": {
      "text/plain": [
       "'prendido'"
      ]
     },
     "execution_count": 195,
     "metadata": {},
     "output_type": "execute_result"
    }
   ],
   "source": [
    "Micro_LG.estado"
   ]
  },
  {
   "cell_type": "code",
   "execution_count": 196,
   "id": "febcfb4e",
   "metadata": {},
   "outputs": [
    {
     "name": "stdout",
     "output_type": "stream",
     "text": [
      "El microondas LG ya estaba prendido\n"
     ]
    }
   ],
   "source": [
    "Micro_LG.encender()"
   ]
  },
  {
   "cell_type": "code",
   "execution_count": 197,
   "id": "b8fe985d",
   "metadata": {},
   "outputs": [
    {
     "data": {
      "text/plain": [
       "'prendido'"
      ]
     },
     "execution_count": 197,
     "metadata": {},
     "output_type": "execute_result"
    }
   ],
   "source": [
    "Micro_LG.estado"
   ]
  },
  {
   "cell_type": "code",
   "execution_count": 198,
   "id": "7c5f2a41",
   "metadata": {},
   "outputs": [
    {
     "name": "stdout",
     "output_type": "stream",
     "text": [
      "Se ha apagado el microondas LG\n"
     ]
    }
   ],
   "source": [
    "Micro_LG.apagar()"
   ]
  },
  {
   "cell_type": "code",
   "execution_count": 199,
   "id": "e5239dd1",
   "metadata": {},
   "outputs": [
    {
     "data": {
      "text/plain": [
       "'apagado'"
      ]
     },
     "execution_count": 199,
     "metadata": {},
     "output_type": "execute_result"
    }
   ],
   "source": [
    "Micro_LG.estado"
   ]
  },
  {
   "cell_type": "code",
   "execution_count": 200,
   "id": "7d9e6333",
   "metadata": {},
   "outputs": [
    {
     "name": "stdout",
     "output_type": "stream",
     "text": [
      "Enciende primero el microoondas LG\n"
     ]
    }
   ],
   "source": [
    "Micro_LG.calentar(20)"
   ]
  },
  {
   "cell_type": "code",
   "execution_count": 201,
   "id": "74efc641",
   "metadata": {},
   "outputs": [
    {
     "name": "stdout",
     "output_type": "stream",
     "text": [
      "Se ha prendido el microondas LG\n"
     ]
    }
   ],
   "source": [
    "Micro_LG.encender()"
   ]
  },
  {
   "cell_type": "code",
   "execution_count": 202,
   "id": "47a1dd5f",
   "metadata": {},
   "outputs": [
    {
     "name": "stdout",
     "output_type": "stream",
     "text": [
      "Tu comida se calentará por 20 segundos\n",
      "beep beep beep\n"
     ]
    }
   ],
   "source": [
    "Micro_LG.calentar(20)"
   ]
  },
  {
   "cell_type": "code",
   "execution_count": 203,
   "id": "5fdb4b2e",
   "metadata": {},
   "outputs": [
    {
     "data": {
      "text/plain": [
       "<__main__.Microondas at 0x7cd7522b3890>"
      ]
     },
     "execution_count": 203,
     "metadata": {},
     "output_type": "execute_result"
    }
   ],
   "source": [
    "Micro_Daewoo = Microondas(\"Daewoo\", \"Baja\")\n",
    "Micro_Daewoo"
   ]
  },
  {
   "cell_type": "code",
   "execution_count": 204,
   "id": "e4be03b8",
   "metadata": {},
   "outputs": [],
   "source": [
    "class simulacion:\n",
    "    def __init__(self, t0, tf, x0, v0, n, fuerza = lambda x, i : 0, inicializada = False):\n",
    "        self.t0 = t0\n",
    "        self.tf = tf\n",
    "        self.x0 = x0\n",
    "        self.v0 = v0\n",
    "        self.n = n\n",
    "        self.fuerza = fuerza\n",
    "        self.inicializada = inicializada\n",
    "\n",
    "        self.tiempo, self.paso_tiempo = np.linspace(self.t0, self.tf, self.n + 1, retstep = True)\n",
    "\n",
    "        self.desplazamiento = np.zeros(self.n + 1)\n",
    "        self.velocidad = np.zeros(self.n + 1)\n",
    "\n",
    "    def inicializacion(self):\n",
    "        if self.inicializada:\n",
    "            print(f\"La simulación ya esta inicializada con condiciones iniciales x0 = {self.x0} y v0 = {self.v0}\")\n",
    "        else:\n",
    "            self.desplazamiento[0] = self.x0\n",
    "            self.velocidad[0] = self.v0\n",
    "            self.inicializada = True\n",
    "            print(f\"Simulación inicializada con condiciones iniciales x0 = {self.x0} y v0 = {self.v0}\")\n",
    "    \n",
    "    def euler(self):\n",
    "        print(\"Realizando simulación por el método de Euler\")\n",
    "        for i in range(1, self.n + 1):\n",
    "            self.velocidad[i] = self.velocidad[i - 1] + self.paso_tiempo * self.fuerza(self.desplazamiento, i)\n",
    "            self.desplazamiento[i] = self.desplazamiento[i - 1] + self.paso_tiempo * self.velocidad[i]\n",
    "\n",
    "        print(\"Simulación terminada\")\n",
    "\n",
    "    def graficar_desplazamiento(self):\n",
    "        plt.figure(figsize = (8, 5))\n",
    "        plt.plot(self.tiempo, self.desplazamiento)\n",
    "        plt.ylabel(\"Desplazamiento\")\n",
    "        plt.xlabel(\"Tiempo\")\n",
    "        plt.show\n",
    "\n",
    "    def graficar_velocidad(self):\n",
    "        plt.figure(figsize = (8, 5))\n",
    "        plt.plot(self.tiempo, self.velocidad)\n",
    "        plt.ylabel(\"Velocidad\")\n",
    "        plt.xlabel(\"Tiempo\")\n",
    "        plt.show\n",
    "\n",
    "    def procesar(self):\n",
    "        print(\"Realizando proceso de simulación\")\n",
    "        print()\n",
    "\n",
    "        self.inicializacion()\n",
    "        self.euler()\n",
    "        self.graficar_desplazamiento()\n",
    "        self.graficar_velocidad()\n",
    "        \n",
    "        print()\n",
    "        print(\"Proceso finalizado\")"
   ]
  },
  {
   "cell_type": "code",
   "execution_count": 205,
   "id": "698543ea",
   "metadata": {},
   "outputs": [
    {
     "data": {
      "text/plain": [
       "<__main__.simulacion at 0x7cd75243b0e0>"
      ]
     },
     "execution_count": 205,
     "metadata": {},
     "output_type": "execute_result"
    }
   ],
   "source": [
    "x = simulacion(0, 1, 0, 1, 100)\n",
    "x"
   ]
  },
  {
   "cell_type": "code",
   "execution_count": 206,
   "id": "626b2b59",
   "metadata": {},
   "outputs": [
    {
     "data": {
      "text/plain": [
       "array([0.  , 0.01, 0.02, 0.03, 0.04, 0.05, 0.06, 0.07, 0.08, 0.09, 0.1 ,\n",
       "       0.11, 0.12, 0.13, 0.14, 0.15, 0.16, 0.17, 0.18, 0.19, 0.2 , 0.21,\n",
       "       0.22, 0.23, 0.24, 0.25, 0.26, 0.27, 0.28, 0.29, 0.3 , 0.31, 0.32,\n",
       "       0.33, 0.34, 0.35, 0.36, 0.37, 0.38, 0.39, 0.4 , 0.41, 0.42, 0.43,\n",
       "       0.44, 0.45, 0.46, 0.47, 0.48, 0.49, 0.5 , 0.51, 0.52, 0.53, 0.54,\n",
       "       0.55, 0.56, 0.57, 0.58, 0.59, 0.6 , 0.61, 0.62, 0.63, 0.64, 0.65,\n",
       "       0.66, 0.67, 0.68, 0.69, 0.7 , 0.71, 0.72, 0.73, 0.74, 0.75, 0.76,\n",
       "       0.77, 0.78, 0.79, 0.8 , 0.81, 0.82, 0.83, 0.84, 0.85, 0.86, 0.87,\n",
       "       0.88, 0.89, 0.9 , 0.91, 0.92, 0.93, 0.94, 0.95, 0.96, 0.97, 0.98,\n",
       "       0.99, 1.  ])"
      ]
     },
     "execution_count": 206,
     "metadata": {},
     "output_type": "execute_result"
    }
   ],
   "source": [
    "x.tiempo"
   ]
  },
  {
   "cell_type": "code",
   "execution_count": 207,
   "id": "9efdead9",
   "metadata": {},
   "outputs": [
    {
     "data": {
      "text/plain": [
       "np.float64(0.01)"
      ]
     },
     "execution_count": 207,
     "metadata": {},
     "output_type": "execute_result"
    }
   ],
   "source": [
    "x.paso_tiempo"
   ]
  },
  {
   "cell_type": "code",
   "execution_count": 208,
   "id": "0dbc1a43",
   "metadata": {},
   "outputs": [
    {
     "data": {
      "text/plain": [
       "array([0., 0., 0., 0., 0., 0., 0., 0., 0., 0., 0., 0., 0., 0., 0., 0., 0.,\n",
       "       0., 0., 0., 0., 0., 0., 0., 0., 0., 0., 0., 0., 0., 0., 0., 0., 0.,\n",
       "       0., 0., 0., 0., 0., 0., 0., 0., 0., 0., 0., 0., 0., 0., 0., 0., 0.,\n",
       "       0., 0., 0., 0., 0., 0., 0., 0., 0., 0., 0., 0., 0., 0., 0., 0., 0.,\n",
       "       0., 0., 0., 0., 0., 0., 0., 0., 0., 0., 0., 0., 0., 0., 0., 0., 0.,\n",
       "       0., 0., 0., 0., 0., 0., 0., 0., 0., 0., 0., 0., 0., 0., 0., 0.])"
      ]
     },
     "execution_count": 208,
     "metadata": {},
     "output_type": "execute_result"
    }
   ],
   "source": [
    "x.desplazamiento"
   ]
  },
  {
   "cell_type": "code",
   "execution_count": 209,
   "id": "22e8bb7f",
   "metadata": {},
   "outputs": [
    {
     "data": {
      "text/plain": [
       "array([0., 0., 0., 0., 0., 0., 0., 0., 0., 0., 0., 0., 0., 0., 0., 0., 0.,\n",
       "       0., 0., 0., 0., 0., 0., 0., 0., 0., 0., 0., 0., 0., 0., 0., 0., 0.,\n",
       "       0., 0., 0., 0., 0., 0., 0., 0., 0., 0., 0., 0., 0., 0., 0., 0., 0.,\n",
       "       0., 0., 0., 0., 0., 0., 0., 0., 0., 0., 0., 0., 0., 0., 0., 0., 0.,\n",
       "       0., 0., 0., 0., 0., 0., 0., 0., 0., 0., 0., 0., 0., 0., 0., 0., 0.,\n",
       "       0., 0., 0., 0., 0., 0., 0., 0., 0., 0., 0., 0., 0., 0., 0., 0.])"
      ]
     },
     "execution_count": 209,
     "metadata": {},
     "output_type": "execute_result"
    }
   ],
   "source": [
    "x.velocidad"
   ]
  },
  {
   "cell_type": "code",
   "execution_count": 210,
   "id": "3169c76b",
   "metadata": {},
   "outputs": [
    {
     "name": "stdout",
     "output_type": "stream",
     "text": [
      "Simulación inicializada con condiciones iniciales x0 = 0 y v0 = 1\n"
     ]
    }
   ],
   "source": [
    "x.inicializacion()"
   ]
  },
  {
   "cell_type": "code",
   "execution_count": 211,
   "id": "1aa47d8c",
   "metadata": {},
   "outputs": [
    {
     "name": "stdout",
     "output_type": "stream",
     "text": [
      "La simulación ya esta inicializada con condiciones iniciales x0 = 0 y v0 = 1\n"
     ]
    }
   ],
   "source": [
    "x.inicializacion()"
   ]
  },
  {
   "cell_type": "code",
   "execution_count": 212,
   "id": "8e2b7fe7",
   "metadata": {},
   "outputs": [
    {
     "name": "stdout",
     "output_type": "stream",
     "text": [
      "Realizando simulación por el método de Euler\n",
      "Simulación terminada\n"
     ]
    }
   ],
   "source": [
    "x.euler()"
   ]
  },
  {
   "cell_type": "code",
   "execution_count": 213,
   "id": "5fb3fa45",
   "metadata": {},
   "outputs": [
    {
     "data": {
      "text/plain": [
       "array([0.  , 0.01, 0.02, 0.03, 0.04, 0.05, 0.06, 0.07, 0.08, 0.09, 0.1 ,\n",
       "       0.11, 0.12, 0.13, 0.14, 0.15, 0.16, 0.17, 0.18, 0.19, 0.2 , 0.21,\n",
       "       0.22, 0.23, 0.24, 0.25, 0.26, 0.27, 0.28, 0.29, 0.3 , 0.31, 0.32,\n",
       "       0.33, 0.34, 0.35, 0.36, 0.37, 0.38, 0.39, 0.4 , 0.41, 0.42, 0.43,\n",
       "       0.44, 0.45, 0.46, 0.47, 0.48, 0.49, 0.5 , 0.51, 0.52, 0.53, 0.54,\n",
       "       0.55, 0.56, 0.57, 0.58, 0.59, 0.6 , 0.61, 0.62, 0.63, 0.64, 0.65,\n",
       "       0.66, 0.67, 0.68, 0.69, 0.7 , 0.71, 0.72, 0.73, 0.74, 0.75, 0.76,\n",
       "       0.77, 0.78, 0.79, 0.8 , 0.81, 0.82, 0.83, 0.84, 0.85, 0.86, 0.87,\n",
       "       0.88, 0.89, 0.9 , 0.91, 0.92, 0.93, 0.94, 0.95, 0.96, 0.97, 0.98,\n",
       "       0.99, 1.  ])"
      ]
     },
     "execution_count": 213,
     "metadata": {},
     "output_type": "execute_result"
    }
   ],
   "source": [
    "x.desplazamiento"
   ]
  },
  {
   "cell_type": "code",
   "execution_count": 214,
   "id": "8be87d3c",
   "metadata": {},
   "outputs": [
    {
     "data": {
      "text/plain": [
       "array([1., 1., 1., 1., 1., 1., 1., 1., 1., 1., 1., 1., 1., 1., 1., 1., 1.,\n",
       "       1., 1., 1., 1., 1., 1., 1., 1., 1., 1., 1., 1., 1., 1., 1., 1., 1.,\n",
       "       1., 1., 1., 1., 1., 1., 1., 1., 1., 1., 1., 1., 1., 1., 1., 1., 1.,\n",
       "       1., 1., 1., 1., 1., 1., 1., 1., 1., 1., 1., 1., 1., 1., 1., 1., 1.,\n",
       "       1., 1., 1., 1., 1., 1., 1., 1., 1., 1., 1., 1., 1., 1., 1., 1., 1.,\n",
       "       1., 1., 1., 1., 1., 1., 1., 1., 1., 1., 1., 1., 1., 1., 1., 1.])"
      ]
     },
     "execution_count": 214,
     "metadata": {},
     "output_type": "execute_result"
    }
   ],
   "source": [
    "x.velocidad"
   ]
  },
  {
   "cell_type": "code",
   "execution_count": 215,
   "id": "4ec21c9d",
   "metadata": {},
   "outputs": [
    {
     "data": {
      "image/png": "[encoded data removed]",
      "text/plain": [
       "<Figure size 800x500 with 1 Axes>"
      ]
     },
     "metadata": {},
     "output_type": "display_data"
    }
   ],
   "source": [
    "x.graficar_desplazamiento()"
   ]
  },
  {
   "cell_type": "code",
   "execution_count": 216,
   "id": "a9a2720b",
   "metadata": {},
   "outputs": [
    {
     "data": {
      "image/png": "[encoded data removed]",
      "text/plain": [
       "<Figure size 800x500 with 1 Axes>"
      ]
     },
     "metadata": {},
     "output_type": "display_data"
    }
   ],
   "source": [
    "x.graficar_velocidad()"
   ]
  },
  {
   "cell_type": "code",
   "execution_count": 217,
   "id": "24dda977",
   "metadata": {},
   "outputs": [
    {
     "name": "stdout",
     "output_type": "stream",
     "text": [
      "Realizando proceso de simulación\n",
      "\n",
      "Simulación inicializada con condiciones iniciales x0 = 0 y v0 = 1\n",
      "Realizando simulación por el método de Euler\n",
      "Simulación terminada\n",
      "\n",
      "Proceso finalizado\n"
     ]
    },
    {
     "data": {
      "image/png": "[encoded data removed]",
      "text/plain": [
       "<Figure size 800x500 with 1 Axes>"
      ]
     },
     "metadata": {},
     "output_type": "display_data"
    },
    {
     "data": {
      "image/png": "[encoded data removed]",
      "text/plain": [
       "<Figure size 800x500 with 1 Axes>"
      ]
     },
     "metadata": {},
     "output_type": "display_data"
    }
   ],
   "source": [
    "fuerza = lambda x, i : 1 if x[i - 1] <= 50 else 0\n",
    "y = simulacion(0, 20, 0, 1, 10000, fuerza = fuerza)\n",
    "y.procesar()"
   ]
  },
  {
   "cell_type": "code",
   "execution_count": null,
   "id": "b77be574",
   "metadata": {},
   "outputs": [],
   "source": []
  }
 ],
 "metadata": {
  "kernelspec": {
   "display_name": "sci",
   "language": "python",
   "name": "python3"
  },
  "language_info": {
   "codemirror_mode": {
    "name": "ipython",
    "version": 3
   },
   "file_extension": ".py",
   "mimetype": "text/x-python",
   "name": "python",
   "nbconvert_exporter": "python",
   "pygments_lexer": "ipython3",
   "version": "3.13.2"
  }
 },
 "nbformat": 4,
 "nbformat_minor": 5
}
