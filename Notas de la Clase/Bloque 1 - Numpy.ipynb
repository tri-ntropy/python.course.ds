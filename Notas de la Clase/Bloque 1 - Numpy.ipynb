{
 "cells": [
  {
   "cell_type": "markdown",
   "metadata": {},
   "source": [
    "# Numpy"
   ]
  },
  {
   "cell_type": "markdown",
   "metadata": {},
   "source": [
    "## Importación de bibliotecas"
   ]
  },
  {
   "cell_type": "code",
   "execution_count": 56,
   "metadata": {},
   "outputs": [],
   "source": [
    "import numpy as np"
   ]
  },
  {
   "cell_type": "markdown",
   "metadata": {},
   "source": [
    "## Creación de arreglos"
   ]
  },
  {
   "cell_type": "markdown",
   "metadata": {},
   "source": [
    "### Manual"
   ]
  },
  {
   "cell_type": "markdown",
   "metadata": {},
   "source": [
    "\n",
    "Creando primero una lista simple"
   ]
  },
  {
   "cell_type": "code",
   "execution_count": 57,
   "metadata": {},
   "outputs": [
    {
     "data": {
      "text/plain": [
       "array([0, 1, 2, 3, 4, 5, 6, 7, 8, 9])"
      ]
     },
     "execution_count": 57,
     "metadata": {},
     "output_type": "execute_result"
    }
   ],
   "source": [
    "a = np.array(list(range(10)))\n",
    "a"
   ]
  },
  {
   "cell_type": "markdown",
   "metadata": {},
   "source": [
    "Una lista de listas"
   ]
  },
  {
   "cell_type": "code",
   "execution_count": 58,
   "metadata": {},
   "outputs": [
    {
     "data": {
      "text/plain": [
       "array([[1, 2],\n",
       "       [3, 4],\n",
       "       [5, 6]])"
      ]
     },
     "execution_count": 58,
     "metadata": {},
     "output_type": "execute_result"
    }
   ],
   "source": [
    "a = np.array([[1, 2], [3, 4], [5, 6]])\n",
    "a"
   ]
  },
  {
   "cell_type": "markdown",
   "metadata": {},
   "source": [
    "### Constructores"
   ]
  },
  {
   "cell_type": "markdown",
   "metadata": {},
   "source": [
    "Arreglo de solo 1s. Recibe una tupla para definir su forma"
   ]
  },
  {
   "cell_type": "code",
   "execution_count": 59,
   "metadata": {},
   "outputs": [
    {
     "data": {
      "text/plain": [
       "array([[1., 1., 1., 1., 1., 1., 1., 1.],\n",
       "       [1., 1., 1., 1., 1., 1., 1., 1.],\n",
       "       [1., 1., 1., 1., 1., 1., 1., 1.],\n",
       "       [1., 1., 1., 1., 1., 1., 1., 1.]])"
      ]
     },
     "execution_count": 59,
     "metadata": {},
     "output_type": "execute_result"
    }
   ],
   "source": [
    "b = np.ones((4, 8))\n",
    "b"
   ]
  },
  {
   "cell_type": "markdown",
   "metadata": {},
   "source": [
    "Arreglo de solo 0s. Recibe una tupla para definir su forma"
   ]
  },
  {
   "cell_type": "code",
   "execution_count": 60,
   "metadata": {},
   "outputs": [
    {
     "data": {
      "text/plain": [
       "array([[0., 0., 0., 0., 0., 0., 0., 0.],\n",
       "       [0., 0., 0., 0., 0., 0., 0., 0.],\n",
       "       [0., 0., 0., 0., 0., 0., 0., 0.],\n",
       "       [0., 0., 0., 0., 0., 0., 0., 0.],\n",
       "       [0., 0., 0., 0., 0., 0., 0., 0.],\n",
       "       [0., 0., 0., 0., 0., 0., 0., 0.]])"
      ]
     },
     "execution_count": 60,
     "metadata": {},
     "output_type": "execute_result"
    }
   ],
   "source": [
    "b = np.zeros((6, 8))\n",
    "b"
   ]
  },
  {
   "cell_type": "markdown",
   "metadata": {},
   "source": [
    "Arreglo de datos vacíos. Importante por cuestiones de optimización. Recibe una tupla para definir su forma"
   ]
  },
  {
   "cell_type": "code",
   "execution_count": 61,
   "metadata": {},
   "outputs": [
    {
     "data": {
      "text/plain": [
       "array([[1.35801824e-315, 0.00000000e+000, 0.00000000e+000],\n",
       "       [0.00000000e+000, 0.00000000e+000, 0.00000000e+000],\n",
       "       [0.00000000e+000, 0.00000000e+000, 0.00000000e+000],\n",
       "       [0.00000000e+000, 0.00000000e+000, 0.00000000e+000],\n",
       "       [0.00000000e+000, 0.00000000e+000, 6.32404027e-322]])"
      ]
     },
     "execution_count": 61,
     "metadata": {},
     "output_type": "execute_result"
    }
   ],
   "source": [
    "b = np.empty((5, 3))\n",
    "b"
   ]
  },
  {
   "cell_type": "markdown",
   "metadata": {},
   "source": [
    "Arreglo creado por la función `.arange`. Similar a `range`, pero si acepta tamaños de paso decimal (de punto flotante)"
   ]
  },
  {
   "cell_type": "code",
   "execution_count": 62,
   "metadata": {},
   "outputs": [
    {
     "data": {
      "text/plain": [
       "array([  0. ,   2.5,   5. ,   7.5,  10. ,  12.5,  15. ,  17.5,  20. ,\n",
       "        22.5,  25. ,  27.5,  30. ,  32.5,  35. ,  37.5,  40. ,  42.5,\n",
       "        45. ,  47.5,  50. ,  52.5,  55. ,  57.5,  60. ,  62.5,  65. ,\n",
       "        67.5,  70. ,  72.5,  75. ,  77.5,  80. ,  82.5,  85. ,  87.5,\n",
       "        90. ,  92.5,  95. ,  97.5, 100. ])"
      ]
     },
     "execution_count": 62,
     "metadata": {},
     "output_type": "execute_result"
    }
   ],
   "source": [
    "c = np.arange(0, 101, 2.5)\n",
    "c"
   ]
  },
  {
   "cell_type": "markdown",
   "metadata": {},
   "source": [
    "Arreglo creado por la función `.linspace`. En lugar de recibir el tamaño de paso, recibe cuantos valores quieres entre el inicio y el final. Para esta función, el final si se incluye"
   ]
  },
  {
   "cell_type": "code",
   "execution_count": 63,
   "metadata": {},
   "outputs": [
    {
     "data": {
      "text/plain": [
       "array([  0. ,   0.8,   1.6,   2.4,   3.2,   4. ,   4.8,   5.6,   6.4,\n",
       "         7.2,   8. ,   8.8,   9.6,  10.4,  11.2,  12. ,  12.8,  13.6,\n",
       "        14.4,  15.2,  16. ,  16.8,  17.6,  18.4,  19.2,  20. ,  20.8,\n",
       "        21.6,  22.4,  23.2,  24. ,  24.8,  25.6,  26.4,  27.2,  28. ,\n",
       "        28.8,  29.6,  30.4,  31.2,  32. ,  32.8,  33.6,  34.4,  35.2,\n",
       "        36. ,  36.8,  37.6,  38.4,  39.2,  40. ,  40.8,  41.6,  42.4,\n",
       "        43.2,  44. ,  44.8,  45.6,  46.4,  47.2,  48. ,  48.8,  49.6,\n",
       "        50.4,  51.2,  52. ,  52.8,  53.6,  54.4,  55.2,  56. ,  56.8,\n",
       "        57.6,  58.4,  59.2,  60. ,  60.8,  61.6,  62.4,  63.2,  64. ,\n",
       "        64.8,  65.6,  66.4,  67.2,  68. ,  68.8,  69.6,  70.4,  71.2,\n",
       "        72. ,  72.8,  73.6,  74.4,  75.2,  76. ,  76.8,  77.6,  78.4,\n",
       "        79.2,  80. ,  80.8,  81.6,  82.4,  83.2,  84. ,  84.8,  85.6,\n",
       "        86.4,  87.2,  88. ,  88.8,  89.6,  90.4,  91.2,  92. ,  92.8,\n",
       "        93.6,  94.4,  95.2,  96. ,  96.8,  97.6,  98.4,  99.2, 100. ])"
      ]
     },
     "execution_count": 63,
     "metadata": {},
     "output_type": "execute_result"
    }
   ],
   "source": [
    "c = np.linspace(0, 100, 126)\n",
    "c"
   ]
  },
  {
   "cell_type": "markdown",
   "metadata": {},
   "source": [
    "Puede devolver el tamaño de paso si emplea la keyword `retstep`."
   ]
  },
  {
   "cell_type": "code",
   "execution_count": 64,
   "metadata": {},
   "outputs": [
    {
     "data": {
      "text/plain": [
       "np.float64(0.8)"
      ]
     },
     "execution_count": 64,
     "metadata": {},
     "output_type": "execute_result"
    }
   ],
   "source": [
    "c, dx = np.linspace(0, 100, 126, retstep = True)\n",
    "dx"
   ]
  },
  {
   "cell_type": "markdown",
   "metadata": {},
   "source": [
    "Creación de matrices **Identidad** (Con 1s en una diagonal y 0s en todos lados)"
   ]
  },
  {
   "cell_type": "code",
   "execution_count": 65,
   "metadata": {},
   "outputs": [
    {
     "data": {
      "text/plain": [
       "array([[1., 0., 0., 0., 0., 0., 0., 0., 0.],\n",
       "       [0., 1., 0., 0., 0., 0., 0., 0., 0.],\n",
       "       [0., 0., 1., 0., 0., 0., 0., 0., 0.],\n",
       "       [0., 0., 0., 1., 0., 0., 0., 0., 0.],\n",
       "       [0., 0., 0., 0., 1., 0., 0., 0., 0.],\n",
       "       [0., 0., 0., 0., 0., 1., 0., 0., 0.],\n",
       "       [0., 0., 0., 0., 0., 0., 1., 0., 0.],\n",
       "       [0., 0., 0., 0., 0., 0., 0., 1., 0.],\n",
       "       [0., 0., 0., 0., 0., 0., 0., 0., 1.]])"
      ]
     },
     "execution_count": 65,
     "metadata": {},
     "output_type": "execute_result"
    }
   ],
   "source": [
    "identidad = np.eye(9)\n",
    "identidad"
   ]
  },
  {
   "cell_type": "markdown",
   "metadata": {},
   "source": [
    "Moviendo la diagonal"
   ]
  },
  {
   "cell_type": "code",
   "execution_count": 66,
   "metadata": {},
   "outputs": [
    {
     "data": {
      "text/plain": [
       "array([[0., 0., 0., 1., 0., 0., 0., 0., 0.],\n",
       "       [0., 0., 0., 0., 1., 0., 0., 0., 0.],\n",
       "       [0., 0., 0., 0., 0., 1., 0., 0., 0.],\n",
       "       [0., 0., 0., 0., 0., 0., 1., 0., 0.],\n",
       "       [0., 0., 0., 0., 0., 0., 0., 1., 0.],\n",
       "       [0., 0., 0., 0., 0., 0., 0., 0., 1.],\n",
       "       [0., 0., 0., 0., 0., 0., 0., 0., 0.],\n",
       "       [0., 0., 0., 0., 0., 0., 0., 0., 0.],\n",
       "       [0., 0., 0., 0., 0., 0., 0., 0., 0.]])"
      ]
     },
     "execution_count": 66,
     "metadata": {},
     "output_type": "execute_result"
    }
   ],
   "source": [
    "identidad = np.eye(9, k = 3)\n",
    "identidad"
   ]
  },
  {
   "cell_type": "markdown",
   "metadata": {},
   "source": [
    "Empleando los generadores de números aleatorios. En este ejemplo, se genera el arreglo empleando una distribución normal, con promedio 0 y desviación estandar 1"
   ]
  },
  {
   "cell_type": "code",
   "execution_count": 67,
   "metadata": {},
   "outputs": [
    {
     "data": {
      "text/plain": [
       "array([ 0.050551  ,  0.4605856 , -2.19568198, -0.43056271,  1.14112887,\n",
       "       -0.89734939,  0.7654064 , -0.05761355,  0.07518264,  1.92175833,\n",
       "       -0.53047078,  0.30396541,  0.67342047,  0.42023027, -0.9083567 ,\n",
       "        0.963525  , -1.44214475, -0.34689993,  1.07952006,  0.9095047 ,\n",
       "        0.01793714,  1.32761066,  1.25560431,  0.15833724,  1.53898064,\n",
       "       -0.41632727,  0.91285287,  0.98437148, -0.10746681,  2.30666552,\n",
       "        1.29735977,  1.82506548, -0.22621261, -0.30238509, -0.5590947 ,\n",
       "        1.52291324, -1.53787581,  1.44172827,  0.83541868, -1.01068716,\n",
       "        0.30372321, -0.91286962, -1.95581344,  1.85824422, -1.1421145 ,\n",
       "       -0.09947104,  0.07671491,  0.74868726, -1.8228902 , -1.46188876,\n",
       "        1.80510054,  0.09233551,  0.54657338,  1.82591091,  0.57028194,\n",
       "        0.31320376, -0.8118893 ,  0.19790902,  1.17053365,  0.34254858])"
      ]
     },
     "execution_count": 67,
     "metadata": {},
     "output_type": "execute_result"
    }
   ],
   "source": [
    "n = np.random.normal(0, 1, 60)\n",
    "n"
   ]
  },
  {
   "cell_type": "markdown",
   "metadata": {},
   "source": [
    "## Diferencia principal entre listas de Python vs arreglos de Numpy"
   ]
  },
  {
   "cell_type": "markdown",
   "metadata": {},
   "source": [
    "\n",
    "### Los arreglos solo pueden contener un solo tipo de dato"
   ]
  },
  {
   "cell_type": "markdown",
   "metadata": {},
   "source": [
    "Listas. Pueden tener en sus entradas distintos tipos de datos sin ningún problema."
   ]
  },
  {
   "cell_type": "code",
   "execution_count": 68,
   "metadata": {},
   "outputs": [
    {
     "name": "stdout",
     "output_type": "stream",
     "text": [
      "<class 'int'>\n",
      "<class 'str'>\n",
      "<class 'list'>\n"
     ]
    }
   ],
   "source": [
    "for i in [1, \"a\", []]:\n",
    "    print(type(i))"
   ]
  },
  {
   "cell_type": "markdown",
   "metadata": {},
   "source": [
    "Arreglos. Dado que solo pueden recibir un tipo de dato, y es imposible convertir de forma natural o lógica el texto a número, por tanto, se convierte el número a su representación en carácter (string)."
   ]
  },
  {
   "cell_type": "code",
   "execution_count": 69,
   "metadata": {},
   "outputs": [
    {
     "data": {
      "text/plain": [
       "array(['1', 'a'], dtype='<U21')"
      ]
     },
     "execution_count": 69,
     "metadata": {},
     "output_type": "execute_result"
    }
   ],
   "source": [
    "np.array([1, \"a\"])"
   ]
  },
  {
   "cell_type": "markdown",
   "metadata": {},
   "source": [
    "### Para efectuar operaciones en las entradas de las listas se necesita forsozamente de un ciclo for, mientras que eso no es necesario para arreglos de Numpy"
   ]
  },
  {
   "cell_type": "code",
   "execution_count": 70,
   "metadata": {},
   "outputs": [
    {
     "name": "stdout",
     "output_type": "stream",
     "text": [
      "Lista: [0, 1, 2, 3, 4]\n",
      "Arreglo: [0 1 2 3 4]\n"
     ]
    }
   ],
   "source": [
    "lista_prueba = list(range(5))\n",
    "arreglo_prueba = np.arange(5)\n",
    "\n",
    "print(f\"Lista: {lista_prueba}\\nArreglo: {arreglo_prueba}\")"
   ]
  },
  {
   "cell_type": "markdown",
   "metadata": {},
   "source": [
    "Listas"
   ]
  },
  {
   "cell_type": "code",
   "execution_count": 71,
   "metadata": {},
   "outputs": [
    {
     "data": {
      "text/plain": [
       "[10, 11, 12, 13, 14]"
      ]
     },
     "execution_count": 71,
     "metadata": {},
     "output_type": "execute_result"
    }
   ],
   "source": [
    "for i in range(len(lista_prueba)):\n",
    "    lista_prueba[i] += 10\n",
    "\n",
    "lista_prueba"
   ]
  },
  {
   "cell_type": "markdown",
   "metadata": {},
   "source": [
    "Arreglos. Se puede sumar un número al arreglo y se realizará la suma entrada por entrada. Esta es una característica heredada de Matlab"
   ]
  },
  {
   "cell_type": "code",
   "execution_count": 72,
   "metadata": {},
   "outputs": [
    {
     "data": {
      "text/plain": [
       "array([10, 11, 12, 13, 14])"
      ]
     },
     "execution_count": 72,
     "metadata": {},
     "output_type": "execute_result"
    }
   ],
   "source": [
    "arreglo_prueba += 10\n",
    "arreglo_prueba"
   ]
  },
  {
   "cell_type": "markdown",
   "metadata": {},
   "source": [
    "### Los arreglos de Numpy pueden cambiar de forma"
   ]
  },
  {
   "cell_type": "code",
   "execution_count": 74,
   "metadata": {},
   "outputs": [
    {
     "data": {
      "text/plain": [
       "array([  1.,   2.,   3.,   4.,   5.,   6.,   7.,   8.,   9.,  10.,  11.,\n",
       "        12.,  13.,  14.,  15.,  16.,  17.,  18.,  19.,  20.,  21.,  22.,\n",
       "        23.,  24.,  25.,  26.,  27.,  28.,  29.,  30.,  31.,  32.,  33.,\n",
       "        34.,  35.,  36.,  37.,  38.,  39.,  40.,  41.,  42.,  43.,  44.,\n",
       "        45.,  46.,  47.,  48.,  49.,  50.,  51.,  52.,  53.,  54.,  55.,\n",
       "        56.,  57.,  58.,  59.,  60.,  61.,  62.,  63.,  64.,  65.,  66.,\n",
       "        67.,  68.,  69.,  70.,  71.,  72.,  73.,  74.,  75.,  76.,  77.,\n",
       "        78.,  79.,  80.,  81.,  82.,  83.,  84.,  85.,  86.,  87.,  88.,\n",
       "        89.,  90.,  91.,  92.,  93.,  94.,  95.,  96.,  97.,  98.,  99.,\n",
       "       100.])"
      ]
     },
     "execution_count": 74,
     "metadata": {},
     "output_type": "execute_result"
    }
   ],
   "source": [
    "d = np.linspace(1, 100, 100)\n",
    "d"
   ]
  },
  {
   "cell_type": "code",
   "execution_count": 76,
   "metadata": {},
   "outputs": [
    {
     "data": {
      "text/plain": [
       "array([[  1.,   2.,   3.,   4.],\n",
       "       [  5.,   6.,   7.,   8.],\n",
       "       [  9.,  10.,  11.,  12.],\n",
       "       [ 13.,  14.,  15.,  16.],\n",
       "       [ 17.,  18.,  19.,  20.],\n",
       "       [ 21.,  22.,  23.,  24.],\n",
       "       [ 25.,  26.,  27.,  28.],\n",
       "       [ 29.,  30.,  31.,  32.],\n",
       "       [ 33.,  34.,  35.,  36.],\n",
       "       [ 37.,  38.,  39.,  40.],\n",
       "       [ 41.,  42.,  43.,  44.],\n",
       "       [ 45.,  46.,  47.,  48.],\n",
       "       [ 49.,  50.,  51.,  52.],\n",
       "       [ 53.,  54.,  55.,  56.],\n",
       "       [ 57.,  58.,  59.,  60.],\n",
       "       [ 61.,  62.,  63.,  64.],\n",
       "       [ 65.,  66.,  67.,  68.],\n",
       "       [ 69.,  70.,  71.,  72.],\n",
       "       [ 73.,  74.,  75.,  76.],\n",
       "       [ 77.,  78.,  79.,  80.],\n",
       "       [ 81.,  82.,  83.,  84.],\n",
       "       [ 85.,  86.,  87.,  88.],\n",
       "       [ 89.,  90.,  91.,  92.],\n",
       "       [ 93.,  94.,  95.,  96.],\n",
       "       [ 97.,  98.,  99., 100.]])"
      ]
     },
     "execution_count": 76,
     "metadata": {},
     "output_type": "execute_result"
    }
   ],
   "source": [
    "d = d.reshape((25, 4))\n",
    "d"
   ]
  },
  {
   "cell_type": "code",
   "execution_count": 77,
   "metadata": {},
   "outputs": [
    {
     "data": {
      "text/plain": [
       "array([[[  1.,   2.,   3.,   4.],\n",
       "        [  5.,   6.,   7.,   8.],\n",
       "        [  9.,  10.,  11.,  12.],\n",
       "        [ 13.,  14.,  15.,  16.],\n",
       "        [ 17.,  18.,  19.,  20.]],\n",
       "\n",
       "       [[ 21.,  22.,  23.,  24.],\n",
       "        [ 25.,  26.,  27.,  28.],\n",
       "        [ 29.,  30.,  31.,  32.],\n",
       "        [ 33.,  34.,  35.,  36.],\n",
       "        [ 37.,  38.,  39.,  40.]],\n",
       "\n",
       "       [[ 41.,  42.,  43.,  44.],\n",
       "        [ 45.,  46.,  47.,  48.],\n",
       "        [ 49.,  50.,  51.,  52.],\n",
       "        [ 53.,  54.,  55.,  56.],\n",
       "        [ 57.,  58.,  59.,  60.]],\n",
       "\n",
       "       [[ 61.,  62.,  63.,  64.],\n",
       "        [ 65.,  66.,  67.,  68.],\n",
       "        [ 69.,  70.,  71.,  72.],\n",
       "        [ 73.,  74.,  75.,  76.],\n",
       "        [ 77.,  78.,  79.,  80.]],\n",
       "\n",
       "       [[ 81.,  82.,  83.,  84.],\n",
       "        [ 85.,  86.,  87.,  88.],\n",
       "        [ 89.,  90.,  91.,  92.],\n",
       "        [ 93.,  94.,  95.,  96.],\n",
       "        [ 97.,  98.,  99., 100.]]])"
      ]
     },
     "execution_count": 77,
     "metadata": {},
     "output_type": "execute_result"
    }
   ],
   "source": [
    "d = d.reshape((5, 5, 4))\n",
    "d"
   ]
  },
  {
   "cell_type": "code",
   "execution_count": null,
   "metadata": {},
   "outputs": [],
   "source": []
  }
 ],
 "metadata": {
  "kernelspec": {
   "display_name": "sci",
   "language": "python",
   "name": "python3"
  },
  "language_info": {
   "codemirror_mode": {
    "name": "ipython",
    "version": 3
   },
   "file_extension": ".py",
   "mimetype": "text/x-python",
   "name": "python",
   "nbconvert_exporter": "python",
   "pygments_lexer": "ipython3",
   "version": "3.13.2"
  }
 },
 "nbformat": 4,
 "nbformat_minor": 2
}
