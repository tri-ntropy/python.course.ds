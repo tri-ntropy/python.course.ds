{
 "cells": [
  {
   "cell_type": "markdown",
   "id": "4b775980",
   "metadata": {},
   "source": [
    "# Simulaciones numéricas"
   ]
  },
  {
   "cell_type": "markdown",
   "id": "b450931c",
   "metadata": {},
   "source": [
    "## Primera simulación: Una moneda justa (?).\n",
    "Dada una moneda con dos caras (con aguila y sol, o 0 y 1), determina cual es la probabilidad de que al tirar la moneda 30 veces, al menos 22 de ellas sean sol. "
   ]
  },
  {
   "cell_type": "markdown",
   "id": "e7c9bb9d",
   "metadata": {},
   "source": [
    "## Segunda simulación: Una moneda justa (?) parte 2.\n",
    "Dada una moneda con dos caras (con aguila y sol, o 0 y 1), determina cual es la probabilidad de que al tirar la moneda 30 veces, al menos las primeras 22 de ellas sean sol. "
   ]
  },
  {
   "cell_type": "markdown",
   "id": "eec0fe15",
   "metadata": {},
   "source": []
  }
 ],
 "metadata": {
  "language_info": {
   "name": "python"
  }
 },
 "nbformat": 4,
 "nbformat_minor": 5
}
