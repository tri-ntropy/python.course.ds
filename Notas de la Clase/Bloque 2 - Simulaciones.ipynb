{
 "cells": [
  {
   "cell_type": "markdown",
   "id": "4b775980",
   "metadata": {},
   "source": [
    "# Simulaciones numéricas"
   ]
  },
  {
   "cell_type": "code",
   "execution_count": 1,
   "id": "615596b9",
   "metadata": {},
   "outputs": [],
   "source": [
    "import numpy as np"
   ]
  },
  {
   "cell_type": "markdown",
   "id": "b450931c",
   "metadata": {},
   "source": [
    "## Primera simulación: Una moneda justa (?).\n",
    "Dada una moneda con dos caras (con aguila y sol, o 0 y 1), determina cual es la probabilidad de que al tirar la moneda 30 veces, al menos 22 de ellas sean sol. "
   ]
  },
  {
   "cell_type": "code",
   "execution_count": 2,
   "id": "fa576fee",
   "metadata": {},
   "outputs": [],
   "source": [
    "def moneda1(n = 10000, x = 30, e = 15):\n",
    "    c = 0\n",
    "    for _ in range(n):\n",
    "        m = int(np.random.randint(0, 2, x).sum())\n",
    "        if m >= e:\n",
    "            c += 1\n",
    "\n",
    "    return c / n"
   ]
  },
  {
   "cell_type": "code",
   "execution_count": 3,
   "id": "1c4fdb8a",
   "metadata": {},
   "outputs": [
    {
     "data": {
      "text/plain": [
       "0.0073"
      ]
     },
     "execution_count": 3,
     "metadata": {},
     "output_type": "execute_result"
    }
   ],
   "source": [
    "moneda1(e = 22)"
   ]
  },
  {
   "cell_type": "markdown",
   "id": "e7c9bb9d",
   "metadata": {},
   "source": [
    "## Segunda simulación: Una moneda justa (?) parte 2.\n",
    "Dada una moneda con dos caras (con aguila y sol, o 0 y 1), determina cual es la probabilidad de que al tirar la moneda 30 veces, al menos las primeras 22 de ellas sean sol. "
   ]
  },
  {
   "cell_type": "code",
   "execution_count": 4,
   "id": "dbba6e54",
   "metadata": {},
   "outputs": [],
   "source": [
    "def moneda2(n = 10000, x = 30, e = 15):\n",
    "    c = 0\n",
    "    for _ in range(n):\n",
    "        m = np.random.randint(0, 2, x)\n",
    "        mr = m[: e]\n",
    "        if int(mr.sum()) == e:\n",
    "            c += 1\n",
    "\n",
    "    return c / n"
   ]
  },
  {
   "cell_type": "code",
   "execution_count": 5,
   "id": "49a58e68",
   "metadata": {},
   "outputs": [
    {
     "data": {
      "text/plain": [
       "4e-07"
      ]
     },
     "execution_count": 5,
     "metadata": {},
     "output_type": "execute_result"
    }
   ],
   "source": [
    "moneda2(n = 20_000_000, x = 30, e = 22)"
   ]
  }
 ],
 "metadata": {
  "kernelspec": {
   "display_name": "sci",
   "language": "python",
   "name": "python3"
  },
  "language_info": {
   "codemirror_mode": {
    "name": "ipython",
    "version": 3
   },
   "file_extension": ".py",
   "mimetype": "text/x-python",
   "name": "python",
   "nbconvert_exporter": "python",
   "pygments_lexer": "ipython3",
   "version": "3.13.2"
  }
 },
 "nbformat": 4,
 "nbformat_minor": 5
}
