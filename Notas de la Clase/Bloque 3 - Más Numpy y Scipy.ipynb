{
 "cells": [
  {
   "cell_type": "markdown",
   "id": "7cfe9ef3",
   "metadata": {},
   "source": [
    "# Más Numpy y Scipy"
   ]
  },
  {
   "cell_type": "markdown",
   "id": "ecb2842f",
   "metadata": {},
   "source": [
    "## Importación de bibliotecas"
   ]
  },
  {
   "cell_type": "code",
   "execution_count": 161,
   "id": "095c8f28",
   "metadata": {},
   "outputs": [],
   "source": [
    "import numpy as np\n",
    "from scipy import linalg\n",
    "from scipy import fft"
   ]
  },
  {
   "cell_type": "markdown",
   "id": "fb9d6a16",
   "metadata": {},
   "source": [
    "#### Semilla "
   ]
  },
  {
   "cell_type": "code",
   "execution_count": 162,
   "id": "2ed62321",
   "metadata": {},
   "outputs": [],
   "source": [
    "np.random.seed(50)"
   ]
  },
  {
   "cell_type": "markdown",
   "id": "98d68d16",
   "metadata": {},
   "source": [
    "## Funciones de agregación"
   ]
  },
  {
   "cell_type": "markdown",
   "id": "60a7e899",
   "metadata": {},
   "source": [
    "### Sumatoria"
   ]
  },
  {
   "cell_type": "code",
   "execution_count": 163,
   "id": "f6156289",
   "metadata": {},
   "outputs": [
    {
     "data": {
      "text/plain": [
       "array([[  1.,   2.,   3.,   4.],\n",
       "       [  5.,   6.,   7.,   8.],\n",
       "       [  9.,  10.,  11.,  12.],\n",
       "       [ 13.,  14.,  15.,  16.],\n",
       "       [ 17.,  18.,  19.,  20.],\n",
       "       [ 21.,  22.,  23.,  24.],\n",
       "       [ 25.,  26.,  27.,  28.],\n",
       "       [ 29.,  30.,  31.,  32.],\n",
       "       [ 33.,  34.,  35.,  36.],\n",
       "       [ 37.,  38.,  39.,  40.],\n",
       "       [ 41.,  42.,  43.,  44.],\n",
       "       [ 45.,  46.,  47.,  48.],\n",
       "       [ 49.,  50.,  51.,  52.],\n",
       "       [ 53.,  54.,  55.,  56.],\n",
       "       [ 57.,  58.,  59.,  60.],\n",
       "       [ 61.,  62.,  63.,  64.],\n",
       "       [ 65.,  66.,  67.,  68.],\n",
       "       [ 69.,  70.,  71.,  72.],\n",
       "       [ 73.,  74.,  75.,  76.],\n",
       "       [ 77.,  78.,  79.,  80.],\n",
       "       [ 81.,  82.,  83.,  84.],\n",
       "       [ 85.,  86.,  87.,  88.],\n",
       "       [ 89.,  90.,  91.,  92.],\n",
       "       [ 93.,  94.,  95.,  96.],\n",
       "       [ 97.,  98.,  99., 100.]])"
      ]
     },
     "execution_count": 163,
     "metadata": {},
     "output_type": "execute_result"
    }
   ],
   "source": [
    "a = np.linspace(1, 100, 100).reshape((25, 4))\n",
    "a"
   ]
  },
  {
   "cell_type": "code",
   "execution_count": 164,
   "id": "f5343613",
   "metadata": {},
   "outputs": [
    {
     "data": {
      "text/plain": [
       "np.float64(5050.0)"
      ]
     },
     "execution_count": 164,
     "metadata": {},
     "output_type": "execute_result"
    }
   ],
   "source": [
    "a.sum()"
   ]
  },
  {
   "cell_type": "code",
   "execution_count": 165,
   "id": "e93f9ed6",
   "metadata": {},
   "outputs": [
    {
     "data": {
      "text/plain": [
       "array([1225., 1250., 1275., 1300.])"
      ]
     },
     "execution_count": 165,
     "metadata": {},
     "output_type": "execute_result"
    }
   ],
   "source": [
    "a.sum(axis = 0)"
   ]
  },
  {
   "cell_type": "code",
   "execution_count": 166,
   "id": "221ae79e",
   "metadata": {},
   "outputs": [
    {
     "data": {
      "text/plain": [
       "array([ 10.,  26.,  42.,  58.,  74.,  90., 106., 122., 138., 154., 170.,\n",
       "       186., 202., 218., 234., 250., 266., 282., 298., 314., 330., 346.,\n",
       "       362., 378., 394.])"
      ]
     },
     "execution_count": 166,
     "metadata": {},
     "output_type": "execute_result"
    }
   ],
   "source": [
    "a.sum(axis = 1)"
   ]
  },
  {
   "cell_type": "markdown",
   "id": "9475f3b3",
   "metadata": {},
   "source": [
    "### Promedio"
   ]
  },
  {
   "cell_type": "code",
   "execution_count": 167,
   "id": "def1a5f3",
   "metadata": {},
   "outputs": [
    {
     "data": {
      "text/plain": [
       "np.float64(50.5)"
      ]
     },
     "execution_count": 167,
     "metadata": {},
     "output_type": "execute_result"
    }
   ],
   "source": [
    "a.mean()"
   ]
  },
  {
   "cell_type": "code",
   "execution_count": 168,
   "id": "f10f4f9e",
   "metadata": {},
   "outputs": [
    {
     "data": {
      "text/plain": [
       "array([49., 50., 51., 52.])"
      ]
     },
     "execution_count": 168,
     "metadata": {},
     "output_type": "execute_result"
    }
   ],
   "source": [
    "a.mean(axis = 0)"
   ]
  },
  {
   "cell_type": "code",
   "execution_count": 169,
   "id": "13cabb10",
   "metadata": {},
   "outputs": [
    {
     "data": {
      "text/plain": [
       "array([ 2.5,  6.5, 10.5, 14.5, 18.5, 22.5, 26.5, 30.5, 34.5, 38.5, 42.5,\n",
       "       46.5, 50.5, 54.5, 58.5, 62.5, 66.5, 70.5, 74.5, 78.5, 82.5, 86.5,\n",
       "       90.5, 94.5, 98.5])"
      ]
     },
     "execution_count": 169,
     "metadata": {},
     "output_type": "execute_result"
    }
   ],
   "source": [
    "a.mean(axis = 1)"
   ]
  },
  {
   "cell_type": "markdown",
   "id": "9ce299da",
   "metadata": {},
   "source": [
    "### Desviación estándar"
   ]
  },
  {
   "cell_type": "code",
   "execution_count": 170,
   "id": "000b6c71",
   "metadata": {},
   "outputs": [
    {
     "data": {
      "text/plain": [
       "np.float64(28.86607004772212)"
      ]
     },
     "execution_count": 170,
     "metadata": {},
     "output_type": "execute_result"
    }
   ],
   "source": [
    "a.std()"
   ]
  },
  {
   "cell_type": "code",
   "execution_count": 171,
   "id": "b490bac4",
   "metadata": {},
   "outputs": [
    {
     "data": {
      "text/plain": [
       "array([28.8444102, 28.8444102, 28.8444102, 28.8444102])"
      ]
     },
     "execution_count": 171,
     "metadata": {},
     "output_type": "execute_result"
    }
   ],
   "source": [
    "a.std(axis = 0)"
   ]
  },
  {
   "cell_type": "code",
   "execution_count": 172,
   "id": "775301a6",
   "metadata": {},
   "outputs": [
    {
     "data": {
      "text/plain": [
       "array([1.11803399, 1.11803399, 1.11803399, 1.11803399, 1.11803399,\n",
       "       1.11803399, 1.11803399, 1.11803399, 1.11803399, 1.11803399,\n",
       "       1.11803399, 1.11803399, 1.11803399, 1.11803399, 1.11803399,\n",
       "       1.11803399, 1.11803399, 1.11803399, 1.11803399, 1.11803399,\n",
       "       1.11803399, 1.11803399, 1.11803399, 1.11803399, 1.11803399])"
      ]
     },
     "execution_count": 172,
     "metadata": {},
     "output_type": "execute_result"
    }
   ],
   "source": [
    "a.std(axis = 1)"
   ]
  },
  {
   "cell_type": "markdown",
   "id": "9ebc637d",
   "metadata": {},
   "source": [
    "### Varianza"
   ]
  },
  {
   "cell_type": "code",
   "execution_count": 173,
   "id": "12860be7",
   "metadata": {},
   "outputs": [
    {
     "data": {
      "text/plain": [
       "np.float64(833.25)"
      ]
     },
     "execution_count": 173,
     "metadata": {},
     "output_type": "execute_result"
    }
   ],
   "source": [
    "a.var()"
   ]
  },
  {
   "cell_type": "code",
   "execution_count": 174,
   "id": "62f5d38b",
   "metadata": {},
   "outputs": [
    {
     "data": {
      "text/plain": [
       "array([832., 832., 832., 832.])"
      ]
     },
     "execution_count": 174,
     "metadata": {},
     "output_type": "execute_result"
    }
   ],
   "source": [
    "a.var(axis = 0)"
   ]
  },
  {
   "cell_type": "code",
   "execution_count": 175,
   "id": "a342ccd7",
   "metadata": {},
   "outputs": [
    {
     "data": {
      "text/plain": [
       "array([1.25, 1.25, 1.25, 1.25, 1.25, 1.25, 1.25, 1.25, 1.25, 1.25, 1.25,\n",
       "       1.25, 1.25, 1.25, 1.25, 1.25, 1.25, 1.25, 1.25, 1.25, 1.25, 1.25,\n",
       "       1.25, 1.25, 1.25])"
      ]
     },
     "execution_count": 175,
     "metadata": {},
     "output_type": "execute_result"
    }
   ],
   "source": [
    "a.var(axis = 1)"
   ]
  },
  {
   "cell_type": "markdown",
   "id": "e275e9ea",
   "metadata": {},
   "source": [
    "### Valor máximo"
   ]
  },
  {
   "cell_type": "code",
   "execution_count": 176,
   "id": "f6f40222",
   "metadata": {},
   "outputs": [
    {
     "data": {
      "text/plain": [
       "array([[-1.56035211, -0.0309776 , -0.62092842, -1.46458049],\n",
       "       [ 1.41194612, -0.47673214, -0.78046921,  1.07026774],\n",
       "       [-1.2822926 , -1.3274789 ,  0.12633764,  0.86219372],\n",
       "       [ 0.69673696, -0.33456518, -0.99752606,  1.59890829],\n",
       "       [ 3.31407535,  0.98777046,  0.12386626,  0.74278539],\n",
       "       [-0.39395585,  0.14811582, -0.41223445, -0.16071506],\n",
       "       [ 0.13953147,  0.28546937, -0.28126199,  1.71090732],\n",
       "       [-0.14976664,  0.69030672,  1.09520951,  1.3384087 ],\n",
       "       [-1.36898167,  0.48642763,  0.75352168,  0.36346459],\n",
       "       [-0.31471048,  1.37328117, -0.62441716,  0.375754  ],\n",
       "       [-0.20041632,  0.74303806,  0.85736196, -1.50618929],\n",
       "       [-1.66635217, -0.2189948 , -0.35885843,  0.37852769],\n",
       "       [ 0.68421537, -1.16785607, -0.79321662, -0.0388354 ],\n",
       "       [ 2.70525499, -1.49138851,  0.09597793,  0.52468671],\n",
       "       [ 0.8156655 ,  0.0515058 , -0.16455536,  0.27819942],\n",
       "       [ 0.0871147 ,  0.03426837,  0.74656892, -0.94363758],\n",
       "       [-0.24577667,  1.10812096,  0.03900789, -0.21326669],\n",
       "       [-0.89095461, -0.27064634,  0.22224372,  0.2518136 ],\n",
       "       [ 0.70792609,  0.49398983,  1.47100167, -0.58261947],\n",
       "       [ 2.06581949,  1.08783389,  0.80518904, -1.58788484],\n",
       "       [ 1.2308855 , -2.37345338, -0.03111097, -3.80989038],\n",
       "       [-0.19904969,  0.35043074, -0.05255078, -0.63428108],\n",
       "       [-0.36293111, -2.57091976,  0.13751474, -0.71929619],\n",
       "       [ 0.72852289,  1.62174549,  1.52166225, -1.30677343],\n",
       "       [-0.8897683 ,  0.00526774,  0.86642487, -0.53553558]])"
      ]
     },
     "execution_count": 176,
     "metadata": {},
     "output_type": "execute_result"
    }
   ],
   "source": [
    "b = np.random.normal(0, 1, 100).reshape((25, 4))\n",
    "b"
   ]
  },
  {
   "cell_type": "code",
   "execution_count": 177,
   "id": "5fc2ae26",
   "metadata": {},
   "outputs": [
    {
     "data": {
      "text/plain": [
       "np.float64(3.3140753455120797)"
      ]
     },
     "execution_count": 177,
     "metadata": {},
     "output_type": "execute_result"
    }
   ],
   "source": [
    "b.max()"
   ]
  },
  {
   "cell_type": "code",
   "execution_count": 178,
   "id": "6c30e860",
   "metadata": {},
   "outputs": [
    {
     "data": {
      "text/plain": [
       "array([3.31407535, 1.62174549, 1.52166225, 1.71090732])"
      ]
     },
     "execution_count": 178,
     "metadata": {},
     "output_type": "execute_result"
    }
   ],
   "source": [
    "b.max(axis = 0)"
   ]
  },
  {
   "cell_type": "code",
   "execution_count": 179,
   "id": "86a66faf",
   "metadata": {},
   "outputs": [
    {
     "data": {
      "text/plain": [
       "array([-0.0309776 ,  1.41194612,  0.86219372,  1.59890829,  3.31407535,\n",
       "        0.14811582,  1.71090732,  1.3384087 ,  0.75352168,  1.37328117,\n",
       "        0.85736196,  0.37852769,  0.68421537,  2.70525499,  0.8156655 ,\n",
       "        0.74656892,  1.10812096,  0.2518136 ,  1.47100167,  2.06581949,\n",
       "        1.2308855 ,  0.35043074,  0.13751474,  1.62174549,  0.86642487])"
      ]
     },
     "execution_count": 179,
     "metadata": {},
     "output_type": "execute_result"
    }
   ],
   "source": [
    "b.max(axis = 1)"
   ]
  },
  {
   "cell_type": "markdown",
   "id": "77ad27a2",
   "metadata": {},
   "source": [
    "### Valor mínimo"
   ]
  },
  {
   "cell_type": "code",
   "execution_count": 180,
   "id": "42a35c85",
   "metadata": {},
   "outputs": [
    {
     "data": {
      "text/plain": [
       "np.float64(-3.809890377851563)"
      ]
     },
     "execution_count": 180,
     "metadata": {},
     "output_type": "execute_result"
    }
   ],
   "source": [
    "b.min()"
   ]
  },
  {
   "cell_type": "code",
   "execution_count": 181,
   "id": "1cebb548",
   "metadata": {},
   "outputs": [
    {
     "data": {
      "text/plain": [
       "array([-1.66635217, -2.57091976, -0.99752606, -3.80989038])"
      ]
     },
     "execution_count": 181,
     "metadata": {},
     "output_type": "execute_result"
    }
   ],
   "source": [
    "b.min(axis = 0)"
   ]
  },
  {
   "cell_type": "code",
   "execution_count": 182,
   "id": "6131c9af",
   "metadata": {},
   "outputs": [
    {
     "data": {
      "text/plain": [
       "array([-1.56035211, -0.78046921, -1.3274789 , -0.99752606,  0.12386626,\n",
       "       -0.41223445, -0.28126199, -0.14976664, -1.36898167, -0.62441716,\n",
       "       -1.50618929, -1.66635217, -1.16785607, -1.49138851, -0.16455536,\n",
       "       -0.94363758, -0.24577667, -0.89095461, -0.58261947, -1.58788484,\n",
       "       -3.80989038, -0.63428108, -2.57091976, -1.30677343, -0.8897683 ])"
      ]
     },
     "execution_count": 182,
     "metadata": {},
     "output_type": "execute_result"
    }
   ],
   "source": [
    "b.min(axis = 1)"
   ]
  },
  {
   "cell_type": "markdown",
   "id": "08269fff",
   "metadata": {},
   "source": [
    "## Ordenar un arreglo"
   ]
  },
  {
   "cell_type": "code",
   "execution_count": 183,
   "id": "376a3b94",
   "metadata": {},
   "outputs": [
    {
     "data": {
      "text/plain": [
       "array([-1.56035211, -0.0309776 , -0.62092842, -1.46458049,  1.41194612,\n",
       "       -0.47673214, -0.78046921,  1.07026774, -1.2822926 , -1.3274789 ,\n",
       "        0.12633764,  0.86219372,  0.69673696, -0.33456518, -0.99752606,\n",
       "        1.59890829,  3.31407535,  0.98777046,  0.12386626,  0.74278539,\n",
       "       -0.39395585,  0.14811582, -0.41223445, -0.16071506,  0.13953147,\n",
       "        0.28546937, -0.28126199,  1.71090732, -0.14976664,  0.69030672,\n",
       "        1.09520951,  1.3384087 , -1.36898167,  0.48642763,  0.75352168,\n",
       "        0.36346459, -0.31471048,  1.37328117, -0.62441716,  0.375754  ,\n",
       "       -0.20041632,  0.74303806,  0.85736196, -1.50618929, -1.66635217,\n",
       "       -0.2189948 , -0.35885843,  0.37852769,  0.68421537, -1.16785607,\n",
       "       -0.79321662, -0.0388354 ,  2.70525499, -1.49138851,  0.09597793,\n",
       "        0.52468671,  0.8156655 ,  0.0515058 , -0.16455536,  0.27819942,\n",
       "        0.0871147 ,  0.03426837,  0.74656892, -0.94363758, -0.24577667,\n",
       "        1.10812096,  0.03900789, -0.21326669, -0.89095461, -0.27064634,\n",
       "        0.22224372,  0.2518136 ,  0.70792609,  0.49398983,  1.47100167,\n",
       "       -0.58261947,  2.06581949,  1.08783389,  0.80518904, -1.58788484,\n",
       "        1.2308855 , -2.37345338, -0.03111097, -3.80989038, -0.19904969,\n",
       "        0.35043074, -0.05255078, -0.63428108, -0.36293111, -2.57091976,\n",
       "        0.13751474, -0.71929619,  0.72852289,  1.62174549,  1.52166225,\n",
       "       -1.30677343, -0.8897683 ,  0.00526774,  0.86642487, -0.53553558])"
      ]
     },
     "execution_count": 183,
     "metadata": {},
     "output_type": "execute_result"
    }
   ],
   "source": [
    "b.ravel()"
   ]
  },
  {
   "cell_type": "code",
   "execution_count": 184,
   "id": "87593773",
   "metadata": {},
   "outputs": [
    {
     "data": {
      "text/plain": [
       "(100,)"
      ]
     },
     "execution_count": 184,
     "metadata": {},
     "output_type": "execute_result"
    }
   ],
   "source": [
    "b.ravel().shape"
   ]
  },
  {
   "cell_type": "code",
   "execution_count": 185,
   "id": "62a6937a",
   "metadata": {},
   "outputs": [
    {
     "data": {
      "text/plain": [
       "array([ 3.31407535,  2.70525499,  2.06581949,  1.71090732,  1.62174549,\n",
       "        1.59890829,  1.52166225,  1.47100167,  1.41194612,  1.37328117,\n",
       "        1.3384087 ,  1.2308855 ,  1.10812096,  1.09520951,  1.08783389,\n",
       "        1.07026774,  0.98777046,  0.86642487,  0.86219372,  0.85736196,\n",
       "        0.8156655 ,  0.80518904,  0.75352168,  0.74656892,  0.74303806,\n",
       "        0.74278539,  0.72852289,  0.70792609,  0.69673696,  0.69030672,\n",
       "        0.68421537,  0.52468671,  0.49398983,  0.48642763,  0.37852769,\n",
       "        0.375754  ,  0.36346459,  0.35043074,  0.28546937,  0.27819942,\n",
       "        0.2518136 ,  0.22224372,  0.14811582,  0.13953147,  0.13751474,\n",
       "        0.12633764,  0.12386626,  0.09597793,  0.0871147 ,  0.0515058 ,\n",
       "        0.03900789,  0.03426837,  0.00526774, -0.0309776 , -0.03111097,\n",
       "       -0.0388354 , -0.05255078, -0.14976664, -0.16071506, -0.16455536,\n",
       "       -0.19904969, -0.20041632, -0.21326669, -0.2189948 , -0.24577667,\n",
       "       -0.27064634, -0.28126199, -0.31471048, -0.33456518, -0.35885843,\n",
       "       -0.36293111, -0.39395585, -0.41223445, -0.47673214, -0.53553558,\n",
       "       -0.58261947, -0.62092842, -0.62441716, -0.63428108, -0.71929619,\n",
       "       -0.78046921, -0.79321662, -0.8897683 , -0.89095461, -0.94363758,\n",
       "       -0.99752606, -1.16785607, -1.2822926 , -1.30677343, -1.3274789 ,\n",
       "       -1.36898167, -1.46458049, -1.49138851, -1.50618929, -1.56035211,\n",
       "       -1.58788484, -1.66635217, -2.37345338, -2.57091976, -3.80989038])"
      ]
     },
     "execution_count": 185,
     "metadata": {},
     "output_type": "execute_result"
    }
   ],
   "source": [
    "np.sort(b.ravel())[:: -1]"
   ]
  },
  {
   "cell_type": "code",
   "execution_count": 186,
   "id": "5e344968",
   "metadata": {},
   "outputs": [
    {
     "data": {
      "text/plain": [
       "array([[-1.66635217, -2.57091976, -0.99752606, -3.80989038],\n",
       "       [-1.56035211, -2.37345338, -0.79321662, -1.58788484],\n",
       "       [-1.36898167, -1.49138851, -0.78046921, -1.50618929],\n",
       "       [-1.2822926 , -1.3274789 , -0.62441716, -1.46458049],\n",
       "       [-0.89095461, -1.16785607, -0.62092842, -1.30677343],\n",
       "       [-0.8897683 , -0.47673214, -0.41223445, -0.94363758],\n",
       "       [-0.39395585, -0.33456518, -0.35885843, -0.71929619],\n",
       "       [-0.36293111, -0.27064634, -0.28126199, -0.63428108],\n",
       "       [-0.31471048, -0.2189948 , -0.16455536, -0.58261947],\n",
       "       [-0.24577667, -0.0309776 , -0.05255078, -0.53553558],\n",
       "       [-0.20041632,  0.00526774, -0.03111097, -0.21326669],\n",
       "       [-0.19904969,  0.03426837,  0.03900789, -0.16071506],\n",
       "       [-0.14976664,  0.0515058 ,  0.09597793, -0.0388354 ],\n",
       "       [ 0.0871147 ,  0.14811582,  0.12386626,  0.2518136 ],\n",
       "       [ 0.13953147,  0.28546937,  0.12633764,  0.27819942],\n",
       "       [ 0.68421537,  0.35043074,  0.13751474,  0.36346459],\n",
       "       [ 0.69673696,  0.48642763,  0.22224372,  0.375754  ],\n",
       "       [ 0.70792609,  0.49398983,  0.74656892,  0.37852769],\n",
       "       [ 0.72852289,  0.69030672,  0.75352168,  0.52468671],\n",
       "       [ 0.8156655 ,  0.74303806,  0.80518904,  0.74278539],\n",
       "       [ 1.2308855 ,  0.98777046,  0.85736196,  0.86219372],\n",
       "       [ 1.41194612,  1.08783389,  0.86642487,  1.07026774],\n",
       "       [ 2.06581949,  1.10812096,  1.09520951,  1.3384087 ],\n",
       "       [ 2.70525499,  1.37328117,  1.47100167,  1.59890829],\n",
       "       [ 3.31407535,  1.62174549,  1.52166225,  1.71090732]])"
      ]
     },
     "execution_count": 186,
     "metadata": {},
     "output_type": "execute_result"
    }
   ],
   "source": [
    "np.sort(b, axis = 0)"
   ]
  },
  {
   "cell_type": "code",
   "execution_count": 187,
   "id": "d8d3a63d",
   "metadata": {},
   "outputs": [
    {
     "data": {
      "text/plain": [
       "array([[-1.56035211, -1.46458049, -0.62092842, -0.0309776 ],\n",
       "       [-0.78046921, -0.47673214,  1.07026774,  1.41194612],\n",
       "       [-1.3274789 , -1.2822926 ,  0.12633764,  0.86219372],\n",
       "       [-0.99752606, -0.33456518,  0.69673696,  1.59890829],\n",
       "       [ 0.12386626,  0.74278539,  0.98777046,  3.31407535],\n",
       "       [-0.41223445, -0.39395585, -0.16071506,  0.14811582],\n",
       "       [-0.28126199,  0.13953147,  0.28546937,  1.71090732],\n",
       "       [-0.14976664,  0.69030672,  1.09520951,  1.3384087 ],\n",
       "       [-1.36898167,  0.36346459,  0.48642763,  0.75352168],\n",
       "       [-0.62441716, -0.31471048,  0.375754  ,  1.37328117],\n",
       "       [-1.50618929, -0.20041632,  0.74303806,  0.85736196],\n",
       "       [-1.66635217, -0.35885843, -0.2189948 ,  0.37852769],\n",
       "       [-1.16785607, -0.79321662, -0.0388354 ,  0.68421537],\n",
       "       [-1.49138851,  0.09597793,  0.52468671,  2.70525499],\n",
       "       [-0.16455536,  0.0515058 ,  0.27819942,  0.8156655 ],\n",
       "       [-0.94363758,  0.03426837,  0.0871147 ,  0.74656892],\n",
       "       [-0.24577667, -0.21326669,  0.03900789,  1.10812096],\n",
       "       [-0.89095461, -0.27064634,  0.22224372,  0.2518136 ],\n",
       "       [-0.58261947,  0.49398983,  0.70792609,  1.47100167],\n",
       "       [-1.58788484,  0.80518904,  1.08783389,  2.06581949],\n",
       "       [-3.80989038, -2.37345338, -0.03111097,  1.2308855 ],\n",
       "       [-0.63428108, -0.19904969, -0.05255078,  0.35043074],\n",
       "       [-2.57091976, -0.71929619, -0.36293111,  0.13751474],\n",
       "       [-1.30677343,  0.72852289,  1.52166225,  1.62174549],\n",
       "       [-0.8897683 , -0.53553558,  0.00526774,  0.86642487]])"
      ]
     },
     "execution_count": 187,
     "metadata": {},
     "output_type": "execute_result"
    }
   ],
   "source": [
    "np.sort(b, axis = 1)"
   ]
  },
  {
   "cell_type": "markdown",
   "id": "126f2fb4",
   "metadata": {},
   "source": [
    "## Sistemas de ecuaciones (álgebra lineal)"
   ]
  },
  {
   "cell_type": "markdown",
   "id": "f29053ab",
   "metadata": {},
   "source": [
    "Vamos a resolver el sistema \n",
    "$$3x + 1y + 0z = 2$$\n",
    "$$2x - 1y + 5z = 4$$\n",
    "$$0x + 0y + 1z = -1$$\n",
    "\n",
    "$$3, 1, 0$$\n",
    "$$2, -1, 5$$\n",
    "$$0, 0, 1$$\n",
    "\n",
    "$$2, 4, -1$$"
   ]
  },
  {
   "cell_type": "code",
   "execution_count": 188,
   "id": "69fc63f3",
   "metadata": {},
   "outputs": [],
   "source": [
    "a = np.array([[3, 2, 0], [1, -1, 0], [0, 5, 1]])\n",
    "b = np.array([2, 4, -1])"
   ]
  },
  {
   "cell_type": "markdown",
   "id": "806fe7b8",
   "metadata": {},
   "source": [
    "Empleando el solucionador de `linalg`"
   ]
  },
  {
   "cell_type": "code",
   "execution_count": 189,
   "id": "5b44db30",
   "metadata": {},
   "outputs": [
    {
     "data": {
      "text/plain": [
       "array([ 2., -2.,  9.])"
      ]
     },
     "execution_count": 189,
     "metadata": {},
     "output_type": "execute_result"
    }
   ],
   "source": [
    "sol = linalg.solve(a, b)\n",
    "sol"
   ]
  },
  {
   "cell_type": "markdown",
   "id": "bf341049",
   "metadata": {},
   "source": [
    "Comprobación"
   ]
  },
  {
   "cell_type": "code",
   "execution_count": 190,
   "id": "df3c4f96",
   "metadata": {},
   "outputs": [
    {
     "data": {
      "text/plain": [
       "array([ True,  True,  True])"
      ]
     },
     "execution_count": 190,
     "metadata": {},
     "output_type": "execute_result"
    }
   ],
   "source": [
    "np.dot(a, sol) == b"
   ]
  },
  {
   "cell_type": "code",
   "execution_count": 191,
   "id": "33a87a41",
   "metadata": {},
   "outputs": [
    {
     "data": {
      "text/plain": [
       "array([ 2.,  4., -1.])"
      ]
     },
     "execution_count": 191,
     "metadata": {},
     "output_type": "execute_result"
    }
   ],
   "source": [
    "np.dot(a, sol)"
   ]
  },
  {
   "cell_type": "code",
   "execution_count": 192,
   "id": "07ee0613",
   "metadata": {},
   "outputs": [
    {
     "data": {
      "text/plain": [
       "array([ 2,  4, -1])"
      ]
     },
     "execution_count": 192,
     "metadata": {},
     "output_type": "execute_result"
    }
   ],
   "source": [
    "b"
   ]
  },
  {
   "cell_type": "markdown",
   "id": "f7aff01c",
   "metadata": {},
   "source": [
    "Vamos a resolver un sistema aleatorio"
   ]
  },
  {
   "cell_type": "code",
   "execution_count": 193,
   "id": "ac5e0e6a",
   "metadata": {},
   "outputs": [],
   "source": [
    "n = 20\n",
    "a = np.random.randint(0, 20, size = (n, n))\n",
    "b = np.random.randint(0, 20, size = n)"
   ]
  },
  {
   "cell_type": "markdown",
   "id": "fd518de7",
   "metadata": {},
   "source": [
    "Empleando el solucionador de `linalg`"
   ]
  },
  {
   "cell_type": "code",
   "execution_count": 194,
   "id": "d0fbb2bf",
   "metadata": {},
   "outputs": [
    {
     "data": {
      "text/plain": [
       "array([ 3.35385074,  0.22197981,  2.199477  , -2.5813922 ,  0.6589672 ,\n",
       "        0.19442979, -1.19550212, -3.31502097,  4.30857631, -1.77919006,\n",
       "       -1.26117744,  4.42169736,  1.66401103,  0.50272569, -0.55278959,\n",
       "       -0.97939858, -0.81646333, -1.10084957, -4.73883399, -0.13471683])"
      ]
     },
     "execution_count": 194,
     "metadata": {},
     "output_type": "execute_result"
    }
   ],
   "source": [
    "sol = linalg.solve(a, b)\n",
    "sol"
   ]
  },
  {
   "cell_type": "markdown",
   "id": "71cd483f",
   "metadata": {},
   "source": [
    "Comprobación"
   ]
  },
  {
   "cell_type": "code",
   "execution_count": 195,
   "id": "033f51ff",
   "metadata": {},
   "outputs": [
    {
     "data": {
      "text/plain": [
       "array([ True, False, False,  True, False, False, False,  True, False,\n",
       "       False, False, False, False, False, False, False, False, False,\n",
       "       False, False])"
      ]
     },
     "execution_count": 195,
     "metadata": {},
     "output_type": "execute_result"
    }
   ],
   "source": [
    "np.dot(a, sol) == b"
   ]
  },
  {
   "cell_type": "code",
   "execution_count": 196,
   "id": "5ee9ddd9",
   "metadata": {},
   "outputs": [
    {
     "data": {
      "text/plain": [
       "array([ 1., 17.,  7., 12.,  8., 13., 14., 19., 13., 19., 14.,  2., 11.,\n",
       "        7., 10.,  2., 18.,  3.,  5., 18.])"
      ]
     },
     "execution_count": 196,
     "metadata": {},
     "output_type": "execute_result"
    }
   ],
   "source": [
    "np.dot(a, sol)"
   ]
  },
  {
   "cell_type": "code",
   "execution_count": 197,
   "id": "d92d8ded",
   "metadata": {},
   "outputs": [
    {
     "data": {
      "text/plain": [
       "array([ 1, 17,  7, 12,  8, 13, 14, 19, 13, 19, 14,  2, 11,  7, 10,  2, 18,\n",
       "        3,  5, 18])"
      ]
     },
     "execution_count": 197,
     "metadata": {},
     "output_type": "execute_result"
    }
   ],
   "source": [
    "b"
   ]
  },
  {
   "cell_type": "markdown",
   "id": "d36ab8a7",
   "metadata": {},
   "source": [
    "¿Por qué salen dos `False`?"
   ]
  },
  {
   "cell_type": "markdown",
   "id": "1520223c",
   "metadata": {},
   "source": [
    "## Inversa de una matriz (álgebra lineal)"
   ]
  },
  {
   "cell_type": "code",
   "execution_count": 205,
   "id": "f51e950e",
   "metadata": {},
   "outputs": [
    {
     "data": {
      "text/plain": [
       "array([[ 4,  0,  5, 15,  5,  7, 11],\n",
       "       [ 3,  1,  7,  3, 14, 11,  7],\n",
       "       [15, 19, 18,  5,  1,  7,  9],\n",
       "       [15,  7, 14, 11,  7, 11, 16],\n",
       "       [ 2, 10, 16, 14, 12,  6,  6],\n",
       "       [ 5, 11, 17, 15,  0, 12,  4],\n",
       "       [19, 17, 17, 13,  1,  8,  3]])"
      ]
     },
     "execution_count": 205,
     "metadata": {},
     "output_type": "execute_result"
    }
   ],
   "source": [
    "n = 49\n",
    "a = np.random.randint(0, 20, size = n).reshape((7, 7))\n",
    "a"
   ]
  },
  {
   "cell_type": "code",
   "execution_count": 206,
   "id": "00789641",
   "metadata": {},
   "outputs": [
    {
     "data": {
      "text/plain": [
       "array([[-0.0433932 , -0.00927923, -0.06010273,  0.06720307, -0.01088846,\n",
       "        -0.03209201,  0.06721802],\n",
       "       [ 0.17730352,  0.07454315,  0.17807924, -0.2269569 , -0.0439107 ,\n",
       "        -0.05058913,  0.0074257 ],\n",
       "       [-0.22815099, -0.1008104 , -0.13345887,  0.23078826,  0.09266767,\n",
       "         0.07343912, -0.04197035],\n",
       "       [ 0.07503088, -0.01570839, -0.01532917, -0.04490759,  0.01159744,\n",
       "        -0.00857745,  0.03527608],\n",
       "       [ 0.01338231,  0.04912619, -0.00305774, -0.03421423,  0.0381263 ,\n",
       "        -0.05899744,  0.03036349],\n",
       "       [ 0.06470412,  0.10393664,  0.04454285, -0.09297847, -0.09800828,\n",
       "         0.05605023,  0.00377228],\n",
       "       [ 0.06082038, -0.01785388,  0.0764665 ,  0.00661643, -0.00893815,\n",
       "        -0.01886638, -0.06967135]])"
      ]
     },
     "execution_count": 206,
     "metadata": {},
     "output_type": "execute_result"
    }
   ],
   "source": [
    "a_inv = linalg.inv(a)\n",
    "a_inv"
   ]
  },
  {
   "cell_type": "code",
   "execution_count": 208,
   "id": "68ec32f7",
   "metadata": {},
   "outputs": [
    {
     "data": {
      "text/plain": [
       "array([[ 1.00000000e+00, -1.07552856e-16, -2.08166817e-16,\n",
       "         4.96130914e-16,  1.45716772e-16,  1.87350135e-16,\n",
       "         0.00000000e+00],\n",
       "       [ 4.16333634e-17,  1.00000000e+00,  6.93889390e-17,\n",
       "        -3.50414142e-16,  1.73472348e-16, -3.46944695e-17,\n",
       "         2.77555756e-16],\n",
       "       [ 6.93889390e-17,  9.36750677e-17,  1.00000000e+00,\n",
       "         6.00214323e-16,  8.25728375e-16,  4.78783679e-16,\n",
       "         1.11022302e-16],\n",
       "       [ 2.22044605e-16,  3.33066907e-16,  2.22044605e-16,\n",
       "         1.00000000e+00,  4.44089210e-16,  1.66533454e-16,\n",
       "         4.44089210e-16],\n",
       "       [ 2.77555756e-17,  3.46944695e-17, -2.49800181e-16,\n",
       "         4.92661467e-16,  1.00000000e+00,  2.22044605e-16,\n",
       "         5.55111512e-17],\n",
       "       [ 1.66533454e-16, -1.38777878e-17, -5.55111512e-17,\n",
       "         2.91433544e-16,  6.38378239e-16,  1.00000000e+00,\n",
       "         2.22044605e-16],\n",
       "       [-2.22044605e-16, -8.32667268e-17, -2.22044605e-16,\n",
       "        -2.67147415e-16,  9.78384040e-16,  6.86950496e-16,\n",
       "         1.00000000e+00]])"
      ]
     },
     "execution_count": 208,
     "metadata": {},
     "output_type": "execute_result"
    }
   ],
   "source": [
    "resultado = np.dot(a, a_inv)\n",
    "resultado"
   ]
  },
  {
   "cell_type": "code",
   "execution_count": 220,
   "id": "6f767b92",
   "metadata": {},
   "outputs": [
    {
     "data": {
      "text/plain": [
       "array([[False,  True,  True,  True,  True,  True,  True],\n",
       "       [ True, False,  True,  True,  True,  True,  True],\n",
       "       [ True,  True, False,  True,  True,  True,  True],\n",
       "       [ True,  True,  True, False,  True,  True,  True],\n",
       "       [ True,  True,  True,  True, False,  True,  True],\n",
       "       [ True,  True,  True,  True,  True, False,  True],\n",
       "       [ True,  True,  True,  True,  True,  True, False]])"
      ]
     },
     "execution_count": 220,
     "metadata": {},
     "output_type": "execute_result"
    }
   ],
   "source": [
    "mascara = resultado < 0.5\n",
    "mascara"
   ]
  },
  {
   "cell_type": "code",
   "execution_count": 223,
   "id": "0d7dc640",
   "metadata": {},
   "outputs": [
    {
     "data": {
      "text/plain": [
       "array([-1.07552856e-16, -2.08166817e-16,  4.96130914e-16,  1.45716772e-16,\n",
       "        1.87350135e-16,  0.00000000e+00,  4.16333634e-17,  6.93889390e-17,\n",
       "       -3.50414142e-16,  1.73472348e-16, -3.46944695e-17,  2.77555756e-16,\n",
       "        6.93889390e-17,  9.36750677e-17,  6.00214323e-16,  8.25728375e-16,\n",
       "        4.78783679e-16,  1.11022302e-16,  2.22044605e-16,  3.33066907e-16,\n",
       "        2.22044605e-16,  4.44089210e-16,  1.66533454e-16,  4.44089210e-16,\n",
       "        2.77555756e-17,  3.46944695e-17, -2.49800181e-16,  4.92661467e-16,\n",
       "        2.22044605e-16,  5.55111512e-17,  1.66533454e-16, -1.38777878e-17,\n",
       "       -5.55111512e-17,  2.91433544e-16,  6.38378239e-16,  2.22044605e-16,\n",
       "       -2.22044605e-16, -8.32667268e-17, -2.22044605e-16, -2.67147415e-16,\n",
       "        9.78384040e-16,  6.86950496e-16])"
      ]
     },
     "execution_count": 223,
     "metadata": {},
     "output_type": "execute_result"
    }
   ],
   "source": [
    "resultado[mascara]"
   ]
  },
  {
   "cell_type": "code",
   "execution_count": 233,
   "id": "8dffcc68",
   "metadata": {},
   "outputs": [
    {
     "data": {
      "text/plain": [
       "array([[ 2,  0, 18, 10,  6,  8],\n",
       "       [ 8, 11,  3, 18, 18,  1],\n",
       "       [ 4,  5, 10, 18, 16,  0],\n",
       "       [16, 17,  6, 12, 16, 19],\n",
       "       [13, 18, 15, 13, 12, 14],\n",
       "       [ 2, 10, 16, 18,  3, 14],\n",
       "       [11, 15,  2,  3,  1, 14],\n",
       "       [ 2, 19, 10,  9,  2,  0],\n",
       "       [ 0,  5, 14, 14, 12, 10],\n",
       "       [14, 16,  7, 18, 11,  8]])"
      ]
     },
     "execution_count": 233,
     "metadata": {},
     "output_type": "execute_result"
    }
   ],
   "source": [
    "a = np.random.randint(0, 20, 60).reshape((10, 6))\n",
    "a"
   ]
  },
  {
   "cell_type": "code",
   "execution_count": 242,
   "id": "8a30db41",
   "metadata": {},
   "outputs": [
    {
     "data": {
      "text/plain": [
       "array([[False, False,  True,  True, False,  True],\n",
       "       [ True,  True, False,  True,  True, False],\n",
       "       [False, False,  True,  True,  True, False],\n",
       "       [ True,  True, False,  True,  True,  True],\n",
       "       [ True,  True,  True,  True,  True,  True],\n",
       "       [False,  True,  True,  True, False,  True],\n",
       "       [ True,  True, False, False, False,  True],\n",
       "       [False,  True,  True,  True, False, False],\n",
       "       [False, False,  True,  True,  True,  True],\n",
       "       [ True,  True,  True,  True,  True,  True]])"
      ]
     },
     "execution_count": 242,
     "metadata": {},
     "output_type": "execute_result"
    }
   ],
   "source": [
    "mascara1 = a > 6\n",
    "mascara1"
   ]
  },
  {
   "cell_type": "code",
   "execution_count": 243,
   "id": "8e15951e",
   "metadata": {},
   "outputs": [
    {
     "data": {
      "text/plain": [
       "array([[ True,  True, False,  True,  True,  True],\n",
       "       [ True,  True,  True, False, False,  True],\n",
       "       [ True,  True,  True, False, False,  True],\n",
       "       [False, False,  True,  True, False, False],\n",
       "       [ True, False, False,  True,  True,  True],\n",
       "       [ True,  True, False, False,  True,  True],\n",
       "       [ True, False,  True,  True,  True,  True],\n",
       "       [ True, False,  True,  True,  True,  True],\n",
       "       [ True,  True,  True,  True,  True,  True],\n",
       "       [ True, False,  True, False,  True,  True]])"
      ]
     },
     "execution_count": 243,
     "metadata": {},
     "output_type": "execute_result"
    }
   ],
   "source": [
    "mascara2 = a < 15\n",
    "mascara2"
   ]
  },
  {
   "cell_type": "code",
   "execution_count": 246,
   "id": "d3f4b5fd",
   "metadata": {},
   "outputs": [
    {
     "data": {
      "text/plain": [
       "array([[False, False, False,  True, False,  True],\n",
       "       [ True,  True, False, False, False, False],\n",
       "       [False, False,  True, False, False, False],\n",
       "       [False, False, False,  True, False, False],\n",
       "       [ True, False, False,  True,  True,  True],\n",
       "       [False,  True, False, False, False,  True],\n",
       "       [ True, False, False, False, False,  True],\n",
       "       [False, False,  True,  True, False, False],\n",
       "       [False, False,  True,  True,  True,  True],\n",
       "       [ True, False,  True, False,  True,  True]])"
      ]
     },
     "execution_count": 246,
     "metadata": {},
     "output_type": "execute_result"
    }
   ],
   "source": [
    "mascara = mascara1 * mascara2\n",
    "mascara"
   ]
  },
  {
   "cell_type": "code",
   "execution_count": 247,
   "id": "f917a0b8",
   "metadata": {},
   "outputs": [
    {
     "data": {
      "text/plain": [
       "array([10,  8,  8, 11, 10, 12, 13, 13, 12, 14, 10, 14, 11, 14, 10,  9, 14,\n",
       "       14, 12, 10, 14,  7, 11,  8])"
      ]
     },
     "execution_count": 247,
     "metadata": {},
     "output_type": "execute_result"
    }
   ],
   "source": [
    "a[mascara]"
   ]
  },
  {
   "cell_type": "code",
   "execution_count": 250,
   "id": "591ed131",
   "metadata": {},
   "outputs": [
    {
     "data": {
      "text/plain": [
       "True"
      ]
     },
     "execution_count": 250,
     "metadata": {},
     "output_type": "execute_result"
    }
   ],
   "source": [
    "True or False"
   ]
  },
  {
   "cell_type": "code",
   "execution_count": null,
   "id": "229c1dfb",
   "metadata": {},
   "outputs": [],
   "source": []
  }
 ],
 "metadata": {
  "kernelspec": {
   "display_name": "sci",
   "language": "python",
   "name": "python3"
  },
  "language_info": {
   "codemirror_mode": {
    "name": "ipython",
    "version": 3
   },
   "file_extension": ".py",
   "mimetype": "text/x-python",
   "name": "python",
   "nbconvert_exporter": "python",
   "pygments_lexer": "ipython3",
   "version": "3.13.2"
  }
 },
 "nbformat": 4,
 "nbformat_minor": 5
}
