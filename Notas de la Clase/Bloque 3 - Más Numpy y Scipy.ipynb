{
 "cells": [
  {
   "cell_type": "markdown",
   "id": "7cfe9ef3",
   "metadata": {},
   "source": [
    "# Más Numpy y Scipy"
   ]
  },
  {
   "cell_type": "markdown",
   "id": "ecb2842f",
   "metadata": {},
   "source": [
    "## Importación de bibliotecas"
   ]
  },
  {
   "cell_type": "code",
   "execution_count": 169,
   "id": "095c8f28",
   "metadata": {},
   "outputs": [],
   "source": [
    "import numpy as np\n",
    "from scipy import linalg\n",
    "from scipy import fft"
   ]
  },
  {
   "cell_type": "markdown",
   "id": "fb9d6a16",
   "metadata": {},
   "source": [
    "#### Semilla "
   ]
  },
  {
   "cell_type": "code",
   "execution_count": 170,
   "id": "2ed62321",
   "metadata": {},
   "outputs": [],
   "source": [
    "np.random.seed(50)"
   ]
  },
  {
   "cell_type": "markdown",
   "id": "98d68d16",
   "metadata": {},
   "source": [
    "## Funciones de agregación"
   ]
  },
  {
   "cell_type": "markdown",
   "id": "60a7e899",
   "metadata": {},
   "source": [
    "### Sumatoria"
   ]
  },
  {
   "cell_type": "code",
   "execution_count": 171,
   "id": "f6156289",
   "metadata": {},
   "outputs": [
    {
     "data": {
      "text/plain": [
       "array([[  1.,   2.,   3.,   4.],\n",
       "       [  5.,   6.,   7.,   8.],\n",
       "       [  9.,  10.,  11.,  12.],\n",
       "       [ 13.,  14.,  15.,  16.],\n",
       "       [ 17.,  18.,  19.,  20.],\n",
       "       [ 21.,  22.,  23.,  24.],\n",
       "       [ 25.,  26.,  27.,  28.],\n",
       "       [ 29.,  30.,  31.,  32.],\n",
       "       [ 33.,  34.,  35.,  36.],\n",
       "       [ 37.,  38.,  39.,  40.],\n",
       "       [ 41.,  42.,  43.,  44.],\n",
       "       [ 45.,  46.,  47.,  48.],\n",
       "       [ 49.,  50.,  51.,  52.],\n",
       "       [ 53.,  54.,  55.,  56.],\n",
       "       [ 57.,  58.,  59.,  60.],\n",
       "       [ 61.,  62.,  63.,  64.],\n",
       "       [ 65.,  66.,  67.,  68.],\n",
       "       [ 69.,  70.,  71.,  72.],\n",
       "       [ 73.,  74.,  75.,  76.],\n",
       "       [ 77.,  78.,  79.,  80.],\n",
       "       [ 81.,  82.,  83.,  84.],\n",
       "       [ 85.,  86.,  87.,  88.],\n",
       "       [ 89.,  90.,  91.,  92.],\n",
       "       [ 93.,  94.,  95.,  96.],\n",
       "       [ 97.,  98.,  99., 100.]])"
      ]
     },
     "execution_count": 171,
     "metadata": {},
     "output_type": "execute_result"
    }
   ],
   "source": [
    "a = np.linspace(1, 100, 100).reshape((25, 4))\n",
    "a"
   ]
  },
  {
   "cell_type": "code",
   "execution_count": 172,
   "id": "f5343613",
   "metadata": {},
   "outputs": [
    {
     "data": {
      "text/plain": [
       "np.float64(5050.0)"
      ]
     },
     "execution_count": 172,
     "metadata": {},
     "output_type": "execute_result"
    }
   ],
   "source": [
    "a.sum()"
   ]
  },
  {
   "cell_type": "code",
   "execution_count": 173,
   "id": "e93f9ed6",
   "metadata": {},
   "outputs": [
    {
     "data": {
      "text/plain": [
       "array([1225., 1250., 1275., 1300.])"
      ]
     },
     "execution_count": 173,
     "metadata": {},
     "output_type": "execute_result"
    }
   ],
   "source": [
    "a.sum(axis = 0)"
   ]
  },
  {
   "cell_type": "code",
   "execution_count": 174,
   "id": "221ae79e",
   "metadata": {},
   "outputs": [
    {
     "data": {
      "text/plain": [
       "array([ 10.,  26.,  42.,  58.,  74.,  90., 106., 122., 138., 154., 170.,\n",
       "       186., 202., 218., 234., 250., 266., 282., 298., 314., 330., 346.,\n",
       "       362., 378., 394.])"
      ]
     },
     "execution_count": 174,
     "metadata": {},
     "output_type": "execute_result"
    }
   ],
   "source": [
    "a.sum(axis = 1)"
   ]
  },
  {
   "cell_type": "markdown",
   "id": "9475f3b3",
   "metadata": {},
   "source": [
    "### Promedio"
   ]
  },
  {
   "cell_type": "code",
   "execution_count": 175,
   "id": "def1a5f3",
   "metadata": {},
   "outputs": [
    {
     "data": {
      "text/plain": [
       "np.float64(50.5)"
      ]
     },
     "execution_count": 175,
     "metadata": {},
     "output_type": "execute_result"
    }
   ],
   "source": [
    "a.mean()"
   ]
  },
  {
   "cell_type": "code",
   "execution_count": 176,
   "id": "f10f4f9e",
   "metadata": {},
   "outputs": [
    {
     "data": {
      "text/plain": [
       "array([49., 50., 51., 52.])"
      ]
     },
     "execution_count": 176,
     "metadata": {},
     "output_type": "execute_result"
    }
   ],
   "source": [
    "a.mean(axis = 0)"
   ]
  },
  {
   "cell_type": "code",
   "execution_count": 177,
   "id": "13cabb10",
   "metadata": {},
   "outputs": [
    {
     "data": {
      "text/plain": [
       "array([ 2.5,  6.5, 10.5, 14.5, 18.5, 22.5, 26.5, 30.5, 34.5, 38.5, 42.5,\n",
       "       46.5, 50.5, 54.5, 58.5, 62.5, 66.5, 70.5, 74.5, 78.5, 82.5, 86.5,\n",
       "       90.5, 94.5, 98.5])"
      ]
     },
     "execution_count": 177,
     "metadata": {},
     "output_type": "execute_result"
    }
   ],
   "source": [
    "a.mean(axis = 1)"
   ]
  },
  {
   "cell_type": "markdown",
   "id": "9ce299da",
   "metadata": {},
   "source": [
    "### Desviación estándar"
   ]
  },
  {
   "cell_type": "code",
   "execution_count": 178,
   "id": "000b6c71",
   "metadata": {},
   "outputs": [
    {
     "data": {
      "text/plain": [
       "np.float64(28.86607004772212)"
      ]
     },
     "execution_count": 178,
     "metadata": {},
     "output_type": "execute_result"
    }
   ],
   "source": [
    "a.std()"
   ]
  },
  {
   "cell_type": "code",
   "execution_count": 179,
   "id": "b490bac4",
   "metadata": {},
   "outputs": [
    {
     "data": {
      "text/plain": [
       "array([28.8444102, 28.8444102, 28.8444102, 28.8444102])"
      ]
     },
     "execution_count": 179,
     "metadata": {},
     "output_type": "execute_result"
    }
   ],
   "source": [
    "a.std(axis = 0)"
   ]
  },
  {
   "cell_type": "code",
   "execution_count": 180,
   "id": "775301a6",
   "metadata": {},
   "outputs": [
    {
     "data": {
      "text/plain": [
       "array([1.11803399, 1.11803399, 1.11803399, 1.11803399, 1.11803399,\n",
       "       1.11803399, 1.11803399, 1.11803399, 1.11803399, 1.11803399,\n",
       "       1.11803399, 1.11803399, 1.11803399, 1.11803399, 1.11803399,\n",
       "       1.11803399, 1.11803399, 1.11803399, 1.11803399, 1.11803399,\n",
       "       1.11803399, 1.11803399, 1.11803399, 1.11803399, 1.11803399])"
      ]
     },
     "execution_count": 180,
     "metadata": {},
     "output_type": "execute_result"
    }
   ],
   "source": [
    "a.std(axis = 1)"
   ]
  },
  {
   "cell_type": "markdown",
   "id": "9ebc637d",
   "metadata": {},
   "source": [
    "### Varianza"
   ]
  },
  {
   "cell_type": "code",
   "execution_count": 181,
   "id": "12860be7",
   "metadata": {},
   "outputs": [
    {
     "data": {
      "text/plain": [
       "np.float64(833.25)"
      ]
     },
     "execution_count": 181,
     "metadata": {},
     "output_type": "execute_result"
    }
   ],
   "source": [
    "a.var()"
   ]
  },
  {
   "cell_type": "code",
   "execution_count": 182,
   "id": "62f5d38b",
   "metadata": {},
   "outputs": [
    {
     "data": {
      "text/plain": [
       "array([832., 832., 832., 832.])"
      ]
     },
     "execution_count": 182,
     "metadata": {},
     "output_type": "execute_result"
    }
   ],
   "source": [
    "a.var(axis = 0)"
   ]
  },
  {
   "cell_type": "code",
   "execution_count": 183,
   "id": "a342ccd7",
   "metadata": {},
   "outputs": [
    {
     "data": {
      "text/plain": [
       "array([1.25, 1.25, 1.25, 1.25, 1.25, 1.25, 1.25, 1.25, 1.25, 1.25, 1.25,\n",
       "       1.25, 1.25, 1.25, 1.25, 1.25, 1.25, 1.25, 1.25, 1.25, 1.25, 1.25,\n",
       "       1.25, 1.25, 1.25])"
      ]
     },
     "execution_count": 183,
     "metadata": {},
     "output_type": "execute_result"
    }
   ],
   "source": [
    "a.var(axis = 1)"
   ]
  },
  {
   "cell_type": "markdown",
   "id": "e275e9ea",
   "metadata": {},
   "source": [
    "### Valor máximo"
   ]
  },
  {
   "cell_type": "code",
   "execution_count": 184,
   "id": "f6f40222",
   "metadata": {},
   "outputs": [
    {
     "data": {
      "text/plain": [
       "array([[-1.56035211, -0.0309776 , -0.62092842, -1.46458049],\n",
       "       [ 1.41194612, -0.47673214, -0.78046921,  1.07026774],\n",
       "       [-1.2822926 , -1.3274789 ,  0.12633764,  0.86219372],\n",
       "       [ 0.69673696, -0.33456518, -0.99752606,  1.59890829],\n",
       "       [ 3.31407535,  0.98777046,  0.12386626,  0.74278539],\n",
       "       [-0.39395585,  0.14811582, -0.41223445, -0.16071506],\n",
       "       [ 0.13953147,  0.28546937, -0.28126199,  1.71090732],\n",
       "       [-0.14976664,  0.69030672,  1.09520951,  1.3384087 ],\n",
       "       [-1.36898167,  0.48642763,  0.75352168,  0.36346459],\n",
       "       [-0.31471048,  1.37328117, -0.62441716,  0.375754  ],\n",
       "       [-0.20041632,  0.74303806,  0.85736196, -1.50618929],\n",
       "       [-1.66635217, -0.2189948 , -0.35885843,  0.37852769],\n",
       "       [ 0.68421537, -1.16785607, -0.79321662, -0.0388354 ],\n",
       "       [ 2.70525499, -1.49138851,  0.09597793,  0.52468671],\n",
       "       [ 0.8156655 ,  0.0515058 , -0.16455536,  0.27819942],\n",
       "       [ 0.0871147 ,  0.03426837,  0.74656892, -0.94363758],\n",
       "       [-0.24577667,  1.10812096,  0.03900789, -0.21326669],\n",
       "       [-0.89095461, -0.27064634,  0.22224372,  0.2518136 ],\n",
       "       [ 0.70792609,  0.49398983,  1.47100167, -0.58261947],\n",
       "       [ 2.06581949,  1.08783389,  0.80518904, -1.58788484],\n",
       "       [ 1.2308855 , -2.37345338, -0.03111097, -3.80989038],\n",
       "       [-0.19904969,  0.35043074, -0.05255078, -0.63428108],\n",
       "       [-0.36293111, -2.57091976,  0.13751474, -0.71929619],\n",
       "       [ 0.72852289,  1.62174549,  1.52166225, -1.30677343],\n",
       "       [-0.8897683 ,  0.00526774,  0.86642487, -0.53553558]])"
      ]
     },
     "execution_count": 184,
     "metadata": {},
     "output_type": "execute_result"
    }
   ],
   "source": [
    "b = np.random.normal(0, 1, 100).reshape((25, 4))\n",
    "b"
   ]
  },
  {
   "cell_type": "code",
   "execution_count": 185,
   "id": "5fc2ae26",
   "metadata": {},
   "outputs": [
    {
     "data": {
      "text/plain": [
       "np.float64(3.3140753455120797)"
      ]
     },
     "execution_count": 185,
     "metadata": {},
     "output_type": "execute_result"
    }
   ],
   "source": [
    "b.max()"
   ]
  },
  {
   "cell_type": "code",
   "execution_count": 186,
   "id": "6c30e860",
   "metadata": {},
   "outputs": [
    {
     "data": {
      "text/plain": [
       "array([3.31407535, 1.62174549, 1.52166225, 1.71090732])"
      ]
     },
     "execution_count": 186,
     "metadata": {},
     "output_type": "execute_result"
    }
   ],
   "source": [
    "b.max(axis = 0)"
   ]
  },
  {
   "cell_type": "code",
   "execution_count": 187,
   "id": "86a66faf",
   "metadata": {},
   "outputs": [
    {
     "data": {
      "text/plain": [
       "array([-0.0309776 ,  1.41194612,  0.86219372,  1.59890829,  3.31407535,\n",
       "        0.14811582,  1.71090732,  1.3384087 ,  0.75352168,  1.37328117,\n",
       "        0.85736196,  0.37852769,  0.68421537,  2.70525499,  0.8156655 ,\n",
       "        0.74656892,  1.10812096,  0.2518136 ,  1.47100167,  2.06581949,\n",
       "        1.2308855 ,  0.35043074,  0.13751474,  1.62174549,  0.86642487])"
      ]
     },
     "execution_count": 187,
     "metadata": {},
     "output_type": "execute_result"
    }
   ],
   "source": [
    "b.max(axis = 1)"
   ]
  },
  {
   "cell_type": "markdown",
   "id": "77ad27a2",
   "metadata": {},
   "source": [
    "### Valor mínimo"
   ]
  },
  {
   "cell_type": "code",
   "execution_count": 188,
   "id": "42a35c85",
   "metadata": {},
   "outputs": [
    {
     "data": {
      "text/plain": [
       "np.float64(-3.809890377851563)"
      ]
     },
     "execution_count": 188,
     "metadata": {},
     "output_type": "execute_result"
    }
   ],
   "source": [
    "b.min()"
   ]
  },
  {
   "cell_type": "code",
   "execution_count": 189,
   "id": "1cebb548",
   "metadata": {},
   "outputs": [
    {
     "data": {
      "text/plain": [
       "array([-1.66635217, -2.57091976, -0.99752606, -3.80989038])"
      ]
     },
     "execution_count": 189,
     "metadata": {},
     "output_type": "execute_result"
    }
   ],
   "source": [
    "b.min(axis = 0)"
   ]
  },
  {
   "cell_type": "code",
   "execution_count": 190,
   "id": "6131c9af",
   "metadata": {},
   "outputs": [
    {
     "data": {
      "text/plain": [
       "array([-1.56035211, -0.78046921, -1.3274789 , -0.99752606,  0.12386626,\n",
       "       -0.41223445, -0.28126199, -0.14976664, -1.36898167, -0.62441716,\n",
       "       -1.50618929, -1.66635217, -1.16785607, -1.49138851, -0.16455536,\n",
       "       -0.94363758, -0.24577667, -0.89095461, -0.58261947, -1.58788484,\n",
       "       -3.80989038, -0.63428108, -2.57091976, -1.30677343, -0.8897683 ])"
      ]
     },
     "execution_count": 190,
     "metadata": {},
     "output_type": "execute_result"
    }
   ],
   "source": [
    "b.min(axis = 1)"
   ]
  },
  {
   "cell_type": "markdown",
   "id": "08269fff",
   "metadata": {},
   "source": [
    "## Ordenar un arreglo"
   ]
  },
  {
   "cell_type": "code",
   "execution_count": 191,
   "id": "376a3b94",
   "metadata": {},
   "outputs": [
    {
     "data": {
      "text/plain": [
       "array([-1.56035211, -0.0309776 , -0.62092842, -1.46458049,  1.41194612,\n",
       "       -0.47673214, -0.78046921,  1.07026774, -1.2822926 , -1.3274789 ,\n",
       "        0.12633764,  0.86219372,  0.69673696, -0.33456518, -0.99752606,\n",
       "        1.59890829,  3.31407535,  0.98777046,  0.12386626,  0.74278539,\n",
       "       -0.39395585,  0.14811582, -0.41223445, -0.16071506,  0.13953147,\n",
       "        0.28546937, -0.28126199,  1.71090732, -0.14976664,  0.69030672,\n",
       "        1.09520951,  1.3384087 , -1.36898167,  0.48642763,  0.75352168,\n",
       "        0.36346459, -0.31471048,  1.37328117, -0.62441716,  0.375754  ,\n",
       "       -0.20041632,  0.74303806,  0.85736196, -1.50618929, -1.66635217,\n",
       "       -0.2189948 , -0.35885843,  0.37852769,  0.68421537, -1.16785607,\n",
       "       -0.79321662, -0.0388354 ,  2.70525499, -1.49138851,  0.09597793,\n",
       "        0.52468671,  0.8156655 ,  0.0515058 , -0.16455536,  0.27819942,\n",
       "        0.0871147 ,  0.03426837,  0.74656892, -0.94363758, -0.24577667,\n",
       "        1.10812096,  0.03900789, -0.21326669, -0.89095461, -0.27064634,\n",
       "        0.22224372,  0.2518136 ,  0.70792609,  0.49398983,  1.47100167,\n",
       "       -0.58261947,  2.06581949,  1.08783389,  0.80518904, -1.58788484,\n",
       "        1.2308855 , -2.37345338, -0.03111097, -3.80989038, -0.19904969,\n",
       "        0.35043074, -0.05255078, -0.63428108, -0.36293111, -2.57091976,\n",
       "        0.13751474, -0.71929619,  0.72852289,  1.62174549,  1.52166225,\n",
       "       -1.30677343, -0.8897683 ,  0.00526774,  0.86642487, -0.53553558])"
      ]
     },
     "execution_count": 191,
     "metadata": {},
     "output_type": "execute_result"
    }
   ],
   "source": [
    "b.ravel()"
   ]
  },
  {
   "cell_type": "code",
   "execution_count": 192,
   "id": "87593773",
   "metadata": {},
   "outputs": [
    {
     "data": {
      "text/plain": [
       "(100,)"
      ]
     },
     "execution_count": 192,
     "metadata": {},
     "output_type": "execute_result"
    }
   ],
   "source": [
    "b.ravel().shape"
   ]
  },
  {
   "cell_type": "code",
   "execution_count": 193,
   "id": "62a6937a",
   "metadata": {},
   "outputs": [
    {
     "data": {
      "text/plain": [
       "array([ 3.31407535,  2.70525499,  2.06581949,  1.71090732,  1.62174549,\n",
       "        1.59890829,  1.52166225,  1.47100167,  1.41194612,  1.37328117,\n",
       "        1.3384087 ,  1.2308855 ,  1.10812096,  1.09520951,  1.08783389,\n",
       "        1.07026774,  0.98777046,  0.86642487,  0.86219372,  0.85736196,\n",
       "        0.8156655 ,  0.80518904,  0.75352168,  0.74656892,  0.74303806,\n",
       "        0.74278539,  0.72852289,  0.70792609,  0.69673696,  0.69030672,\n",
       "        0.68421537,  0.52468671,  0.49398983,  0.48642763,  0.37852769,\n",
       "        0.375754  ,  0.36346459,  0.35043074,  0.28546937,  0.27819942,\n",
       "        0.2518136 ,  0.22224372,  0.14811582,  0.13953147,  0.13751474,\n",
       "        0.12633764,  0.12386626,  0.09597793,  0.0871147 ,  0.0515058 ,\n",
       "        0.03900789,  0.03426837,  0.00526774, -0.0309776 , -0.03111097,\n",
       "       -0.0388354 , -0.05255078, -0.14976664, -0.16071506, -0.16455536,\n",
       "       -0.19904969, -0.20041632, -0.21326669, -0.2189948 , -0.24577667,\n",
       "       -0.27064634, -0.28126199, -0.31471048, -0.33456518, -0.35885843,\n",
       "       -0.36293111, -0.39395585, -0.41223445, -0.47673214, -0.53553558,\n",
       "       -0.58261947, -0.62092842, -0.62441716, -0.63428108, -0.71929619,\n",
       "       -0.78046921, -0.79321662, -0.8897683 , -0.89095461, -0.94363758,\n",
       "       -0.99752606, -1.16785607, -1.2822926 , -1.30677343, -1.3274789 ,\n",
       "       -1.36898167, -1.46458049, -1.49138851, -1.50618929, -1.56035211,\n",
       "       -1.58788484, -1.66635217, -2.37345338, -2.57091976, -3.80989038])"
      ]
     },
     "execution_count": 193,
     "metadata": {},
     "output_type": "execute_result"
    }
   ],
   "source": [
    "np.sort(b.ravel())[:: -1]"
   ]
  },
  {
   "cell_type": "code",
   "execution_count": 194,
   "id": "5e344968",
   "metadata": {},
   "outputs": [
    {
     "data": {
      "text/plain": [
       "array([[-1.66635217, -2.57091976, -0.99752606, -3.80989038],\n",
       "       [-1.56035211, -2.37345338, -0.79321662, -1.58788484],\n",
       "       [-1.36898167, -1.49138851, -0.78046921, -1.50618929],\n",
       "       [-1.2822926 , -1.3274789 , -0.62441716, -1.46458049],\n",
       "       [-0.89095461, -1.16785607, -0.62092842, -1.30677343],\n",
       "       [-0.8897683 , -0.47673214, -0.41223445, -0.94363758],\n",
       "       [-0.39395585, -0.33456518, -0.35885843, -0.71929619],\n",
       "       [-0.36293111, -0.27064634, -0.28126199, -0.63428108],\n",
       "       [-0.31471048, -0.2189948 , -0.16455536, -0.58261947],\n",
       "       [-0.24577667, -0.0309776 , -0.05255078, -0.53553558],\n",
       "       [-0.20041632,  0.00526774, -0.03111097, -0.21326669],\n",
       "       [-0.19904969,  0.03426837,  0.03900789, -0.16071506],\n",
       "       [-0.14976664,  0.0515058 ,  0.09597793, -0.0388354 ],\n",
       "       [ 0.0871147 ,  0.14811582,  0.12386626,  0.2518136 ],\n",
       "       [ 0.13953147,  0.28546937,  0.12633764,  0.27819942],\n",
       "       [ 0.68421537,  0.35043074,  0.13751474,  0.36346459],\n",
       "       [ 0.69673696,  0.48642763,  0.22224372,  0.375754  ],\n",
       "       [ 0.70792609,  0.49398983,  0.74656892,  0.37852769],\n",
       "       [ 0.72852289,  0.69030672,  0.75352168,  0.52468671],\n",
       "       [ 0.8156655 ,  0.74303806,  0.80518904,  0.74278539],\n",
       "       [ 1.2308855 ,  0.98777046,  0.85736196,  0.86219372],\n",
       "       [ 1.41194612,  1.08783389,  0.86642487,  1.07026774],\n",
       "       [ 2.06581949,  1.10812096,  1.09520951,  1.3384087 ],\n",
       "       [ 2.70525499,  1.37328117,  1.47100167,  1.59890829],\n",
       "       [ 3.31407535,  1.62174549,  1.52166225,  1.71090732]])"
      ]
     },
     "execution_count": 194,
     "metadata": {},
     "output_type": "execute_result"
    }
   ],
   "source": [
    "np.sort(b, axis = 0)"
   ]
  },
  {
   "cell_type": "code",
   "execution_count": 195,
   "id": "d8d3a63d",
   "metadata": {},
   "outputs": [
    {
     "data": {
      "text/plain": [
       "array([[-1.56035211, -1.46458049, -0.62092842, -0.0309776 ],\n",
       "       [-0.78046921, -0.47673214,  1.07026774,  1.41194612],\n",
       "       [-1.3274789 , -1.2822926 ,  0.12633764,  0.86219372],\n",
       "       [-0.99752606, -0.33456518,  0.69673696,  1.59890829],\n",
       "       [ 0.12386626,  0.74278539,  0.98777046,  3.31407535],\n",
       "       [-0.41223445, -0.39395585, -0.16071506,  0.14811582],\n",
       "       [-0.28126199,  0.13953147,  0.28546937,  1.71090732],\n",
       "       [-0.14976664,  0.69030672,  1.09520951,  1.3384087 ],\n",
       "       [-1.36898167,  0.36346459,  0.48642763,  0.75352168],\n",
       "       [-0.62441716, -0.31471048,  0.375754  ,  1.37328117],\n",
       "       [-1.50618929, -0.20041632,  0.74303806,  0.85736196],\n",
       "       [-1.66635217, -0.35885843, -0.2189948 ,  0.37852769],\n",
       "       [-1.16785607, -0.79321662, -0.0388354 ,  0.68421537],\n",
       "       [-1.49138851,  0.09597793,  0.52468671,  2.70525499],\n",
       "       [-0.16455536,  0.0515058 ,  0.27819942,  0.8156655 ],\n",
       "       [-0.94363758,  0.03426837,  0.0871147 ,  0.74656892],\n",
       "       [-0.24577667, -0.21326669,  0.03900789,  1.10812096],\n",
       "       [-0.89095461, -0.27064634,  0.22224372,  0.2518136 ],\n",
       "       [-0.58261947,  0.49398983,  0.70792609,  1.47100167],\n",
       "       [-1.58788484,  0.80518904,  1.08783389,  2.06581949],\n",
       "       [-3.80989038, -2.37345338, -0.03111097,  1.2308855 ],\n",
       "       [-0.63428108, -0.19904969, -0.05255078,  0.35043074],\n",
       "       [-2.57091976, -0.71929619, -0.36293111,  0.13751474],\n",
       "       [-1.30677343,  0.72852289,  1.52166225,  1.62174549],\n",
       "       [-0.8897683 , -0.53553558,  0.00526774,  0.86642487]])"
      ]
     },
     "execution_count": 195,
     "metadata": {},
     "output_type": "execute_result"
    }
   ],
   "source": [
    "np.sort(b, axis = 1)"
   ]
  },
  {
   "cell_type": "markdown",
   "id": "126f2fb4",
   "metadata": {},
   "source": [
    "## Sistemas de ecuaciones (álgebra lineal)"
   ]
  },
  {
   "cell_type": "markdown",
   "id": "f29053ab",
   "metadata": {},
   "source": [
    "Vamos a resolver el sistema \n",
    "$$3x + 1y + 0z = 2$$\n",
    "$$2x - 1y + 5z = 4$$\n",
    "$$0x + 0y + 1z = -1$$\n",
    "\n",
    "$$3, 1, 0$$\n",
    "$$2, -1, 5$$\n",
    "$$0, 0, 1$$\n",
    "\n",
    "$$2, 4, -1$$"
   ]
  },
  {
   "cell_type": "code",
   "execution_count": 196,
   "id": "69fc63f3",
   "metadata": {},
   "outputs": [],
   "source": [
    "a = np.array([[3, 2, 0], [1, -1, 0], [0, 5, 1]])\n",
    "b = np.array([2, 4, -1])"
   ]
  },
  {
   "cell_type": "markdown",
   "id": "806fe7b8",
   "metadata": {},
   "source": [
    "Empleando el solucionador de `linalg`"
   ]
  },
  {
   "cell_type": "code",
   "execution_count": 197,
   "id": "5b44db30",
   "metadata": {},
   "outputs": [
    {
     "data": {
      "text/plain": [
       "array([ 2., -2.,  9.])"
      ]
     },
     "execution_count": 197,
     "metadata": {},
     "output_type": "execute_result"
    }
   ],
   "source": [
    "sol = linalg.solve(a, b)\n",
    "sol"
   ]
  },
  {
   "cell_type": "markdown",
   "id": "bf341049",
   "metadata": {},
   "source": [
    "Comprobación"
   ]
  },
  {
   "cell_type": "code",
   "execution_count": 198,
   "id": "df3c4f96",
   "metadata": {},
   "outputs": [
    {
     "data": {
      "text/plain": [
       "array([ True,  True,  True])"
      ]
     },
     "execution_count": 198,
     "metadata": {},
     "output_type": "execute_result"
    }
   ],
   "source": [
    "np.dot(a, sol) == b"
   ]
  },
  {
   "cell_type": "code",
   "execution_count": 199,
   "id": "33a87a41",
   "metadata": {},
   "outputs": [
    {
     "data": {
      "text/plain": [
       "array([ 2.,  4., -1.])"
      ]
     },
     "execution_count": 199,
     "metadata": {},
     "output_type": "execute_result"
    }
   ],
   "source": [
    "np.dot(a, sol)"
   ]
  },
  {
   "cell_type": "code",
   "execution_count": 200,
   "id": "07ee0613",
   "metadata": {},
   "outputs": [
    {
     "data": {
      "text/plain": [
       "array([ 2,  4, -1])"
      ]
     },
     "execution_count": 200,
     "metadata": {},
     "output_type": "execute_result"
    }
   ],
   "source": [
    "b"
   ]
  },
  {
   "cell_type": "markdown",
   "id": "f7aff01c",
   "metadata": {},
   "source": [
    "Vamos a resolver un sistema aleatorio"
   ]
  },
  {
   "cell_type": "code",
   "execution_count": 201,
   "id": "ac5e0e6a",
   "metadata": {},
   "outputs": [],
   "source": [
    "n = 20\n",
    "a = np.random.randint(0, 20, size = (n, n))\n",
    "b = np.random.randint(0, 20, size = n)"
   ]
  },
  {
   "cell_type": "markdown",
   "id": "fd518de7",
   "metadata": {},
   "source": [
    "Empleando el solucionador de `linalg`"
   ]
  },
  {
   "cell_type": "code",
   "execution_count": 202,
   "id": "d0fbb2bf",
   "metadata": {},
   "outputs": [
    {
     "data": {
      "text/plain": [
       "array([ 3.35385074,  0.22197981,  2.199477  , -2.5813922 ,  0.6589672 ,\n",
       "        0.19442979, -1.19550212, -3.31502097,  4.30857631, -1.77919006,\n",
       "       -1.26117744,  4.42169736,  1.66401103,  0.50272569, -0.55278959,\n",
       "       -0.97939858, -0.81646333, -1.10084957, -4.73883399, -0.13471683])"
      ]
     },
     "execution_count": 202,
     "metadata": {},
     "output_type": "execute_result"
    }
   ],
   "source": [
    "sol = linalg.solve(a, b)\n",
    "sol"
   ]
  },
  {
   "cell_type": "markdown",
   "id": "71cd483f",
   "metadata": {},
   "source": [
    "Comprobación"
   ]
  },
  {
   "cell_type": "code",
   "execution_count": 203,
   "id": "033f51ff",
   "metadata": {},
   "outputs": [
    {
     "data": {
      "text/plain": [
       "array([ True, False, False,  True, False, False, False,  True, False,\n",
       "       False, False, False, False, False, False, False, False, False,\n",
       "       False, False])"
      ]
     },
     "execution_count": 203,
     "metadata": {},
     "output_type": "execute_result"
    }
   ],
   "source": [
    "np.dot(a, sol) == b"
   ]
  },
  {
   "cell_type": "code",
   "execution_count": 204,
   "id": "5ee9ddd9",
   "metadata": {},
   "outputs": [
    {
     "data": {
      "text/plain": [
       "array([ 1., 17.,  7., 12.,  8., 13., 14., 19., 13., 19., 14.,  2., 11.,\n",
       "        7., 10.,  2., 18.,  3.,  5., 18.])"
      ]
     },
     "execution_count": 204,
     "metadata": {},
     "output_type": "execute_result"
    }
   ],
   "source": [
    "np.dot(a, sol)"
   ]
  },
  {
   "cell_type": "code",
   "execution_count": 205,
   "id": "d92d8ded",
   "metadata": {},
   "outputs": [
    {
     "data": {
      "text/plain": [
       "array([ 1, 17,  7, 12,  8, 13, 14, 19, 13, 19, 14,  2, 11,  7, 10,  2, 18,\n",
       "        3,  5, 18])"
      ]
     },
     "execution_count": 205,
     "metadata": {},
     "output_type": "execute_result"
    }
   ],
   "source": [
    "b"
   ]
  },
  {
   "cell_type": "markdown",
   "id": "d36ab8a7",
   "metadata": {},
   "source": [
    "¿Por qué salen dos `False`?"
   ]
  },
  {
   "cell_type": "markdown",
   "id": "1520223c",
   "metadata": {},
   "source": [
    "## Inversa de una matriz (álgebra lineal)"
   ]
  },
  {
   "cell_type": "code",
   "execution_count": 206,
   "id": "f51e950e",
   "metadata": {},
   "outputs": [
    {
     "data": {
      "text/plain": [
       "array([[ 6,  3, 12,  4, 10, 17,  8],\n",
       "       [ 1,  2, 14, 12,  8,  3, 17],\n",
       "       [ 6, 12, 15,  5,  9, 17,  0],\n",
       "       [ 3, 11, 14,  8,  6,  9,  7],\n",
       "       [16, 15,  7,  5,  4,  6,  5],\n",
       "       [ 8, 12, 17, 11, 10,  3, 13],\n",
       "       [ 0,  5,  0,  1,  5, 14, 15]])"
      ]
     },
     "execution_count": 206,
     "metadata": {},
     "output_type": "execute_result"
    }
   ],
   "source": [
    "n = 49\n",
    "a = np.random.randint(0, 20, size = n).reshape((7, 7))\n",
    "a"
   ]
  },
  {
   "cell_type": "code",
   "execution_count": 207,
   "id": "00789641",
   "metadata": {},
   "outputs": [
    {
     "data": {
      "text/plain": [
       "array([[ 7.82382834e-02, -1.09913848e-03, -6.53583500e-02,\n",
       "         1.92553450e-03,  7.11442567e-02, -2.75331466e-02,\n",
       "        -4.12326688e-02],\n",
       "       [-8.12477536e-02, -4.96963074e-02,  4.07670553e-02,\n",
       "         8.20042622e-03, -1.38871745e-02,  6.12717513e-02,\n",
       "         4.73546251e-02],\n",
       "       [ 2.67160311e-01, -2.48246461e-01, -3.49486101e-01,\n",
       "         4.05165043e-01, -6.83428604e-02,  7.75239796e-02,\n",
       "        -9.46230255e-02],\n",
       "       [-3.35740970e-01,  4.38816742e-01,  4.37814720e-01,\n",
       "        -3.91783418e-01,  1.28166263e-01, -2.40821150e-01,\n",
       "         3.05580465e-02],\n",
       "       [-2.02062904e-01,  1.24647386e-01,  3.65696351e-01,\n",
       "        -5.01601511e-01, -5.07466608e-02,  1.51287880e-01,\n",
       "         8.63799407e-02],\n",
       "       [-2.70019568e-04,  5.94551323e-02,  3.91115403e-02,\n",
       "         1.68174541e-02,  3.41654172e-02, -1.11200412e-01,\n",
       "         9.89859971e-03],\n",
       "       [ 1.17071636e-01, -1.09729599e-01, -2.01179554e-01,\n",
       "         1.74889632e-01, -1.88875285e-02,  4.89885838e-02,\n",
       "         1.08125819e-02]])"
      ]
     },
     "execution_count": 207,
     "metadata": {},
     "output_type": "execute_result"
    }
   ],
   "source": [
    "a_inv = linalg.inv(a)\n",
    "a_inv"
   ]
  },
  {
   "cell_type": "code",
   "execution_count": 208,
   "id": "68ec32f7",
   "metadata": {},
   "outputs": [
    {
     "data": {
      "text/plain": [
       "array([[ 1.00000000e+00,  4.44089210e-16, -2.22044605e-16,\n",
       "         6.66133815e-16, -5.55111512e-17, -3.88578059e-16,\n",
       "        -9.71445147e-17],\n",
       "       [ 1.38777878e-15,  1.00000000e+00, -2.77555756e-17,\n",
       "         6.93889390e-16, -5.41233725e-16, -4.85722573e-17,\n",
       "        -3.29597460e-16],\n",
       "       [ 1.55257751e-16,  6.59194921e-16,  1.00000000e+00,\n",
       "         1.12757026e-15, -6.24500451e-17, -2.22044605e-16,\n",
       "        -2.32452946e-16],\n",
       "       [ 4.99600361e-16,  3.05311332e-16,  2.49800181e-16,\n",
       "         1.00000000e+00, -1.80411242e-16, -3.40005801e-16,\n",
       "        -2.39391840e-16],\n",
       "       [ 1.66533454e-16,  5.82867088e-16, -1.38777878e-16,\n",
       "         1.38777878e-16,  1.00000000e+00, -5.75928194e-16,\n",
       "        -7.28583860e-17],\n",
       "       [ 1.16573418e-15,  1.38777878e-16,  8.32667268e-17,\n",
       "         1.02695630e-15, -1.80411242e-16,  1.00000000e+00,\n",
       "        -4.82253126e-16],\n",
       "       [ 0.00000000e+00,  2.22044605e-16,  4.44089210e-16,\n",
       "        -4.44089210e-16,  0.00000000e+00,  0.00000000e+00,\n",
       "         1.00000000e+00]])"
      ]
     },
     "execution_count": 208,
     "metadata": {},
     "output_type": "execute_result"
    }
   ],
   "source": [
    "resultado = np.dot(a, a_inv)\n",
    "resultado"
   ]
  },
  {
   "cell_type": "code",
   "execution_count": 209,
   "id": "6f767b92",
   "metadata": {},
   "outputs": [
    {
     "data": {
      "text/plain": [
       "array([[False,  True,  True,  True,  True,  True,  True],\n",
       "       [ True, False,  True,  True,  True,  True,  True],\n",
       "       [ True,  True, False,  True,  True,  True,  True],\n",
       "       [ True,  True,  True, False,  True,  True,  True],\n",
       "       [ True,  True,  True,  True, False,  True,  True],\n",
       "       [ True,  True,  True,  True,  True, False,  True],\n",
       "       [ True,  True,  True,  True,  True,  True, False]])"
      ]
     },
     "execution_count": 209,
     "metadata": {},
     "output_type": "execute_result"
    }
   ],
   "source": [
    "mascara = resultado < 0.5\n",
    "mascara"
   ]
  },
  {
   "cell_type": "code",
   "execution_count": 210,
   "id": "0d7dc640",
   "metadata": {},
   "outputs": [
    {
     "data": {
      "text/plain": [
       "array([ 4.44089210e-16, -2.22044605e-16,  6.66133815e-16, -5.55111512e-17,\n",
       "       -3.88578059e-16, -9.71445147e-17,  1.38777878e-15, -2.77555756e-17,\n",
       "        6.93889390e-16, -5.41233725e-16, -4.85722573e-17, -3.29597460e-16,\n",
       "        1.55257751e-16,  6.59194921e-16,  1.12757026e-15, -6.24500451e-17,\n",
       "       -2.22044605e-16, -2.32452946e-16,  4.99600361e-16,  3.05311332e-16,\n",
       "        2.49800181e-16, -1.80411242e-16, -3.40005801e-16, -2.39391840e-16,\n",
       "        1.66533454e-16,  5.82867088e-16, -1.38777878e-16,  1.38777878e-16,\n",
       "       -5.75928194e-16, -7.28583860e-17,  1.16573418e-15,  1.38777878e-16,\n",
       "        8.32667268e-17,  1.02695630e-15, -1.80411242e-16, -4.82253126e-16,\n",
       "        0.00000000e+00,  2.22044605e-16,  4.44089210e-16, -4.44089210e-16,\n",
       "        0.00000000e+00,  0.00000000e+00])"
      ]
     },
     "execution_count": 210,
     "metadata": {},
     "output_type": "execute_result"
    }
   ],
   "source": [
    "resultado[mascara]"
   ]
  },
  {
   "cell_type": "code",
   "execution_count": 211,
   "id": "8dffcc68",
   "metadata": {},
   "outputs": [
    {
     "data": {
      "text/plain": [
       "array([[15,  7, 18, 10, 19, 19],\n",
       "       [19,  7,  3, 14,  3, 13],\n",
       "       [ 0,  1, 11, 14,  4,  9],\n",
       "       [ 7, 12,  1, 10, 15,  5],\n",
       "       [ 5, 15,  4, 18,  2, 17],\n",
       "       [19, 11, 13,  2,  0,  7],\n",
       "       [ 5,  1, 17, 11, 12,  1],\n",
       "       [19,  2,  1,  6,  7,  7],\n",
       "       [ 9,  3,  9,  8,  7, 10],\n",
       "       [ 0, 12,  7, 19, 18,  4]])"
      ]
     },
     "execution_count": 211,
     "metadata": {},
     "output_type": "execute_result"
    }
   ],
   "source": [
    "a = np.random.randint(0, 20, 60).reshape((10, 6))\n",
    "a"
   ]
  },
  {
   "cell_type": "code",
   "execution_count": 212,
   "id": "8a30db41",
   "metadata": {},
   "outputs": [
    {
     "data": {
      "text/plain": [
       "array([[ True,  True,  True,  True,  True,  True],\n",
       "       [ True,  True, False,  True, False,  True],\n",
       "       [False, False,  True,  True, False,  True],\n",
       "       [ True,  True, False,  True,  True, False],\n",
       "       [False,  True, False,  True, False,  True],\n",
       "       [ True,  True,  True, False, False,  True],\n",
       "       [False, False,  True,  True,  True, False],\n",
       "       [ True, False, False, False,  True,  True],\n",
       "       [ True, False,  True,  True,  True,  True],\n",
       "       [False,  True,  True,  True,  True, False]])"
      ]
     },
     "execution_count": 212,
     "metadata": {},
     "output_type": "execute_result"
    }
   ],
   "source": [
    "mascara1 = a > 6\n",
    "mascara1"
   ]
  },
  {
   "cell_type": "code",
   "execution_count": 213,
   "id": "8e15951e",
   "metadata": {},
   "outputs": [
    {
     "data": {
      "text/plain": [
       "array([[False,  True, False,  True, False, False],\n",
       "       [False,  True,  True,  True,  True,  True],\n",
       "       [ True,  True,  True,  True,  True,  True],\n",
       "       [ True,  True,  True,  True, False,  True],\n",
       "       [ True, False,  True, False,  True, False],\n",
       "       [False,  True,  True,  True,  True,  True],\n",
       "       [ True,  True, False,  True,  True,  True],\n",
       "       [False,  True,  True,  True,  True,  True],\n",
       "       [ True,  True,  True,  True,  True,  True],\n",
       "       [ True,  True,  True, False, False,  True]])"
      ]
     },
     "execution_count": 213,
     "metadata": {},
     "output_type": "execute_result"
    }
   ],
   "source": [
    "mascara2 = a < 15\n",
    "mascara2"
   ]
  },
  {
   "cell_type": "code",
   "execution_count": 214,
   "id": "d3f4b5fd",
   "metadata": {},
   "outputs": [
    {
     "data": {
      "text/plain": [
       "array([[False,  True, False,  True, False, False],\n",
       "       [False,  True, False,  True, False,  True],\n",
       "       [False, False,  True,  True, False,  True],\n",
       "       [ True,  True, False,  True, False, False],\n",
       "       [False, False, False, False, False, False],\n",
       "       [False,  True,  True, False, False,  True],\n",
       "       [False, False, False,  True,  True, False],\n",
       "       [False, False, False, False,  True,  True],\n",
       "       [ True, False,  True,  True,  True,  True],\n",
       "       [False,  True,  True, False, False, False]])"
      ]
     },
     "execution_count": 214,
     "metadata": {},
     "output_type": "execute_result"
    }
   ],
   "source": [
    "mascara = mascara1 * mascara2\n",
    "mascara"
   ]
  },
  {
   "cell_type": "code",
   "execution_count": 215,
   "id": "f917a0b8",
   "metadata": {},
   "outputs": [
    {
     "data": {
      "text/plain": [
       "array([ 7, 10,  7, 14, 13, 11, 14,  9,  7, 12, 10, 11, 13,  7, 11, 12,  7,\n",
       "        7,  9,  9,  8,  7, 10, 12,  7])"
      ]
     },
     "execution_count": 215,
     "metadata": {},
     "output_type": "execute_result"
    }
   ],
   "source": [
    "a[mascara]"
   ]
  },
  {
   "cell_type": "code",
   "execution_count": 216,
   "id": "591ed131",
   "metadata": {},
   "outputs": [
    {
     "data": {
      "text/plain": [
       "True"
      ]
     },
     "execution_count": 216,
     "metadata": {},
     "output_type": "execute_result"
    }
   ],
   "source": [
    "True or False"
   ]
  },
  {
   "cell_type": "code",
   "execution_count": 217,
   "id": "229c1dfb",
   "metadata": {},
   "outputs": [],
   "source": [
    "from scipy.integrate import solve_ivp\n",
    "import matplotlib.pyplot as plt"
   ]
  },
  {
   "cell_type": "code",
   "execution_count": 218,
   "id": "d6187130",
   "metadata": {},
   "outputs": [],
   "source": [
    "from scipy import linalg"
   ]
  },
  {
   "cell_type": "code",
   "execution_count": 219,
   "id": "4e6da1ca",
   "metadata": {},
   "outputs": [],
   "source": [
    "def exponential_decay(t, y): return -0.5 * y\n"
   ]
  },
  {
   "cell_type": "code",
   "execution_count": 220,
   "id": "755ffaa8",
   "metadata": {},
   "outputs": [],
   "source": [
    "sol = solve_ivp(exponential_decay, [0, 20], [2, 4])"
   ]
  },
  {
   "cell_type": "code",
   "execution_count": 221,
   "id": "52e8fb6d",
   "metadata": {},
   "outputs": [
    {
     "name": "stdout",
     "output_type": "stream",
     "text": [
      "[ 0.          0.11487845  1.26366294  3.06066931  4.81621568  6.5746946\n",
      "  8.33384308 10.09499383 11.86088967 13.63793704 15.44041732 17.29767391\n",
      " 19.26298833 20.        ]\n"
     ]
    }
   ],
   "source": [
    "print(sol.t)\n"
   ]
  },
  {
   "cell_type": "code",
   "execution_count": 222,
   "id": "2ed13d3b",
   "metadata": {},
   "outputs": [
    {
     "name": "stdout",
     "output_type": "stream",
     "text": [
      "[[2.00000000e+00 1.88835854e+00 1.06326058e+00 4.33181995e-01\n",
      "  1.80163140e-01 7.48216364e-02 3.10630177e-02 1.28832975e-02\n",
      "  5.33069948e-03 2.19346090e-03 8.91204549e-04 3.52363710e-04\n",
      "  1.32038210e-04 9.13398140e-05]\n",
      " [4.00000000e+00 3.77671709e+00 2.12652116e+00 8.66363989e-01\n",
      "  3.60326279e-01 1.49643273e-01 6.21260355e-02 2.57665950e-02\n",
      "  1.06613990e-02 4.38692180e-03 1.78240910e-03 7.04727419e-04\n",
      "  2.64076419e-04 1.82679628e-04]]\n"
     ]
    }
   ],
   "source": [
    "print(sol.y)"
   ]
  },
  {
   "cell_type": "code",
   "execution_count": 223,
   "id": "e43d4e8a",
   "metadata": {},
   "outputs": [
    {
     "data": {
      "image/png": "[encoded data removed]",
      "text/plain": [
       "<Figure size 500x500 with 1 Axes>"
      ]
     },
     "metadata": {},
     "output_type": "display_data"
    }
   ],
   "source": [
    "plt.figure(figsize = (5, 5))\n",
    "plt.plot(sol.t, sol.y[0])\n",
    "plt.plot(sol.t, sol.y[1])\n",
    "#plt.plot(sol.t, sol.y[2])\n",
    "plt.show()"
   ]
  },
  {
   "cell_type": "code",
   "execution_count": 225,
   "id": "a29d1254",
   "metadata": {},
   "outputs": [],
   "source": [
    "import sympy as sp"
   ]
  },
  {
   "cell_type": "code",
   "execution_count": 227,
   "id": "1624a618",
   "metadata": {},
   "outputs": [
    {
     "data": {
      "text/latex": [
       "$\\displaystyle x$"
      ],
      "text/plain": [
       "x"
      ]
     },
     "execution_count": 227,
     "metadata": {},
     "output_type": "execute_result"
    }
   ],
   "source": [
    "x, y, z = sp.symbols(\"x,y,z\")\n",
    "x"
   ]
  },
  {
   "cell_type": "code",
   "execution_count": null,
   "id": "d6fa8169",
   "metadata": {},
   "outputs": [],
   "source": []
  }
 ],
 "metadata": {
  "kernelspec": {
   "display_name": "sci",
   "language": "python",
   "name": "python3"
  },
  "language_info": {
   "codemirror_mode": {
    "name": "ipython",
    "version": 3
   },
   "file_extension": ".py",
   "mimetype": "text/x-python",
   "name": "python",
   "nbconvert_exporter": "python",
   "pygments_lexer": "ipython3",
   "version": "3.12.9"
  }
 },
 "nbformat": 4,
 "nbformat_minor": 5
}
