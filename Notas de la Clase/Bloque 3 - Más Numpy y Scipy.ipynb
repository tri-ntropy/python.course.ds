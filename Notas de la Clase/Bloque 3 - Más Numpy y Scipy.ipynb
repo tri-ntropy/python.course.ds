{
 "cells": [
  {
   "cell_type": "markdown",
   "id": "7cfe9ef3",
   "metadata": {},
   "source": [
    "# Más Numpy y Scipy"
   ]
  },
  {
   "cell_type": "markdown",
   "id": "ecb2842f",
   "metadata": {},
   "source": [
    "## Importación de bibliotecas"
   ]
  },
  {
   "cell_type": "code",
   "execution_count": 28,
   "id": "095c8f28",
   "metadata": {},
   "outputs": [],
   "source": [
    "import numpy as np\n",
    "from scipy import linalg"
   ]
  },
  {
   "cell_type": "markdown",
   "id": "98d68d16",
   "metadata": {},
   "source": [
    "## Funciones de agregación"
   ]
  },
  {
   "cell_type": "markdown",
   "id": "60a7e899",
   "metadata": {},
   "source": [
    "### Sumatoria"
   ]
  },
  {
   "cell_type": "code",
   "execution_count": 29,
   "id": "f6156289",
   "metadata": {},
   "outputs": [
    {
     "data": {
      "text/plain": [
       "array([[  1.,   2.,   3.,   4.],\n",
       "       [  5.,   6.,   7.,   8.],\n",
       "       [  9.,  10.,  11.,  12.],\n",
       "       [ 13.,  14.,  15.,  16.],\n",
       "       [ 17.,  18.,  19.,  20.],\n",
       "       [ 21.,  22.,  23.,  24.],\n",
       "       [ 25.,  26.,  27.,  28.],\n",
       "       [ 29.,  30.,  31.,  32.],\n",
       "       [ 33.,  34.,  35.,  36.],\n",
       "       [ 37.,  38.,  39.,  40.],\n",
       "       [ 41.,  42.,  43.,  44.],\n",
       "       [ 45.,  46.,  47.,  48.],\n",
       "       [ 49.,  50.,  51.,  52.],\n",
       "       [ 53.,  54.,  55.,  56.],\n",
       "       [ 57.,  58.,  59.,  60.],\n",
       "       [ 61.,  62.,  63.,  64.],\n",
       "       [ 65.,  66.,  67.,  68.],\n",
       "       [ 69.,  70.,  71.,  72.],\n",
       "       [ 73.,  74.,  75.,  76.],\n",
       "       [ 77.,  78.,  79.,  80.],\n",
       "       [ 81.,  82.,  83.,  84.],\n",
       "       [ 85.,  86.,  87.,  88.],\n",
       "       [ 89.,  90.,  91.,  92.],\n",
       "       [ 93.,  94.,  95.,  96.],\n",
       "       [ 97.,  98.,  99., 100.]])"
      ]
     },
     "execution_count": 29,
     "metadata": {},
     "output_type": "execute_result"
    }
   ],
   "source": [
    "a = np.linspace(1, 100, 100).reshape((25, 4))\n",
    "a"
   ]
  },
  {
   "cell_type": "code",
   "execution_count": 30,
   "id": "f5343613",
   "metadata": {},
   "outputs": [
    {
     "data": {
      "text/plain": [
       "np.float64(5050.0)"
      ]
     },
     "execution_count": 30,
     "metadata": {},
     "output_type": "execute_result"
    }
   ],
   "source": [
    "a.sum()"
   ]
  },
  {
   "cell_type": "code",
   "execution_count": 31,
   "id": "e93f9ed6",
   "metadata": {},
   "outputs": [
    {
     "data": {
      "text/plain": [
       "array([1225., 1250., 1275., 1300.])"
      ]
     },
     "execution_count": 31,
     "metadata": {},
     "output_type": "execute_result"
    }
   ],
   "source": [
    "a.sum(axis = 0)"
   ]
  },
  {
   "cell_type": "code",
   "execution_count": 32,
   "id": "221ae79e",
   "metadata": {},
   "outputs": [
    {
     "data": {
      "text/plain": [
       "array([ 10.,  26.,  42.,  58.,  74.,  90., 106., 122., 138., 154., 170.,\n",
       "       186., 202., 218., 234., 250., 266., 282., 298., 314., 330., 346.,\n",
       "       362., 378., 394.])"
      ]
     },
     "execution_count": 32,
     "metadata": {},
     "output_type": "execute_result"
    }
   ],
   "source": [
    "a.sum(axis = 1)"
   ]
  },
  {
   "cell_type": "markdown",
   "id": "9475f3b3",
   "metadata": {},
   "source": [
    "### Promedio"
   ]
  },
  {
   "cell_type": "code",
   "execution_count": 33,
   "id": "def1a5f3",
   "metadata": {},
   "outputs": [
    {
     "data": {
      "text/plain": [
       "np.float64(50.5)"
      ]
     },
     "execution_count": 33,
     "metadata": {},
     "output_type": "execute_result"
    }
   ],
   "source": [
    "a.mean()"
   ]
  },
  {
   "cell_type": "code",
   "execution_count": 34,
   "id": "f10f4f9e",
   "metadata": {},
   "outputs": [
    {
     "data": {
      "text/plain": [
       "array([49., 50., 51., 52.])"
      ]
     },
     "execution_count": 34,
     "metadata": {},
     "output_type": "execute_result"
    }
   ],
   "source": [
    "a.mean(axis = 0)"
   ]
  },
  {
   "cell_type": "code",
   "execution_count": 35,
   "id": "13cabb10",
   "metadata": {},
   "outputs": [
    {
     "data": {
      "text/plain": [
       "array([ 2.5,  6.5, 10.5, 14.5, 18.5, 22.5, 26.5, 30.5, 34.5, 38.5, 42.5,\n",
       "       46.5, 50.5, 54.5, 58.5, 62.5, 66.5, 70.5, 74.5, 78.5, 82.5, 86.5,\n",
       "       90.5, 94.5, 98.5])"
      ]
     },
     "execution_count": 35,
     "metadata": {},
     "output_type": "execute_result"
    }
   ],
   "source": [
    "a.mean(axis = 1)"
   ]
  },
  {
   "cell_type": "markdown",
   "id": "9ce299da",
   "metadata": {},
   "source": [
    "### Desviación estándar"
   ]
  },
  {
   "cell_type": "code",
   "execution_count": 36,
   "id": "000b6c71",
   "metadata": {},
   "outputs": [
    {
     "data": {
      "text/plain": [
       "np.float64(28.86607004772212)"
      ]
     },
     "execution_count": 36,
     "metadata": {},
     "output_type": "execute_result"
    }
   ],
   "source": [
    "a.std()"
   ]
  },
  {
   "cell_type": "code",
   "execution_count": 37,
   "id": "b490bac4",
   "metadata": {},
   "outputs": [
    {
     "data": {
      "text/plain": [
       "array([28.8444102, 28.8444102, 28.8444102, 28.8444102])"
      ]
     },
     "execution_count": 37,
     "metadata": {},
     "output_type": "execute_result"
    }
   ],
   "source": [
    "a.std(axis = 0)"
   ]
  },
  {
   "cell_type": "code",
   "execution_count": 38,
   "id": "775301a6",
   "metadata": {},
   "outputs": [
    {
     "data": {
      "text/plain": [
       "array([1.11803399, 1.11803399, 1.11803399, 1.11803399, 1.11803399,\n",
       "       1.11803399, 1.11803399, 1.11803399, 1.11803399, 1.11803399,\n",
       "       1.11803399, 1.11803399, 1.11803399, 1.11803399, 1.11803399,\n",
       "       1.11803399, 1.11803399, 1.11803399, 1.11803399, 1.11803399,\n",
       "       1.11803399, 1.11803399, 1.11803399, 1.11803399, 1.11803399])"
      ]
     },
     "execution_count": 38,
     "metadata": {},
     "output_type": "execute_result"
    }
   ],
   "source": [
    "a.std(axis = 1)"
   ]
  },
  {
   "cell_type": "markdown",
   "id": "9ebc637d",
   "metadata": {},
   "source": [
    "### Varianza"
   ]
  },
  {
   "cell_type": "code",
   "execution_count": 39,
   "id": "12860be7",
   "metadata": {},
   "outputs": [
    {
     "data": {
      "text/plain": [
       "np.float64(833.25)"
      ]
     },
     "execution_count": 39,
     "metadata": {},
     "output_type": "execute_result"
    }
   ],
   "source": [
    "a.var()"
   ]
  },
  {
   "cell_type": "code",
   "execution_count": 40,
   "id": "62f5d38b",
   "metadata": {},
   "outputs": [
    {
     "data": {
      "text/plain": [
       "array([832., 832., 832., 832.])"
      ]
     },
     "execution_count": 40,
     "metadata": {},
     "output_type": "execute_result"
    }
   ],
   "source": [
    "a.var(axis = 0)"
   ]
  },
  {
   "cell_type": "code",
   "execution_count": 41,
   "id": "a342ccd7",
   "metadata": {},
   "outputs": [
    {
     "data": {
      "text/plain": [
       "array([1.25, 1.25, 1.25, 1.25, 1.25, 1.25, 1.25, 1.25, 1.25, 1.25, 1.25,\n",
       "       1.25, 1.25, 1.25, 1.25, 1.25, 1.25, 1.25, 1.25, 1.25, 1.25, 1.25,\n",
       "       1.25, 1.25, 1.25])"
      ]
     },
     "execution_count": 41,
     "metadata": {},
     "output_type": "execute_result"
    }
   ],
   "source": [
    "a.var(axis = 1)"
   ]
  },
  {
   "cell_type": "markdown",
   "id": "e275e9ea",
   "metadata": {},
   "source": [
    "### Valor máximo"
   ]
  },
  {
   "cell_type": "code",
   "execution_count": 42,
   "id": "f6f40222",
   "metadata": {},
   "outputs": [
    {
     "data": {
      "text/plain": [
       "array([[-1.62157812,  0.2925888 ,  0.19204723,  0.46820012],\n",
       "       [ 0.30754269,  0.70364498,  0.84636249, -1.32654046],\n",
       "       [ 0.3938091 ,  0.87180819, -0.78203456,  0.01727456],\n",
       "       [-0.9982808 , -0.06816677,  0.99546397,  0.54614639],\n",
       "       [-0.95065913,  0.73129506,  0.7983952 ,  0.55013766],\n",
       "       [ 1.02665423, -0.46663027, -1.04465673,  0.30953207],\n",
       "       [-1.47034009,  0.49727787, -0.50062713,  1.22323628],\n",
       "       [ 0.41968432, -0.1889041 ,  0.24410634, -0.62703528],\n",
       "       [ 0.8916259 ,  2.0430906 , -0.77434706, -0.93382421],\n",
       "       [-1.10002301, -2.65369882, -0.91606596,  0.96399722],\n",
       "       [ 0.40932049, -0.33708218, -1.69027681,  1.28747708],\n",
       "       [ 1.0905508 , -0.67702491, -1.21841119,  0.26176588],\n",
       "       [-0.56462268, -0.96039062,  0.13296293, -0.83596963],\n",
       "       [-0.10669475, -1.14580192,  1.26744295,  1.69939928],\n",
       "       [-1.20662306, -0.70607953, -0.62898989,  0.49677488],\n",
       "       [-0.83825193,  0.95704862,  0.48917025, -0.70655384],\n",
       "       [ 0.26421699,  0.19139744, -1.14628905,  1.72599561],\n",
       "       [ 0.76328379, -1.10211152,  0.04657332,  0.88163442],\n",
       "       [ 0.74098864, -1.50416659, -1.60497888,  1.76962463],\n",
       "       [-0.419778  ,  0.54785183,  0.0287137 , -0.45360927],\n",
       "       [ 0.9413935 , -1.14596259,  0.7408601 ,  0.54569053],\n",
       "       [-0.26562293,  0.34590682, -0.93407358,  0.16765555],\n",
       "       [ 0.32452283,  0.52096463, -1.39960346, -0.16876226],\n",
       "       [-0.25856079,  1.67032878, -0.26384866,  1.11503673],\n",
       "       [-0.35537655,  0.1492681 , -0.75894779, -0.34053894]])"
      ]
     },
     "execution_count": 42,
     "metadata": {},
     "output_type": "execute_result"
    }
   ],
   "source": [
    "b = np.random.normal(0, 1, 100).reshape((25, 4))\n",
    "b"
   ]
  },
  {
   "cell_type": "code",
   "execution_count": 43,
   "id": "5fc2ae26",
   "metadata": {},
   "outputs": [
    {
     "data": {
      "text/plain": [
       "np.float64(2.0430905968514677)"
      ]
     },
     "execution_count": 43,
     "metadata": {},
     "output_type": "execute_result"
    }
   ],
   "source": [
    "b.max()"
   ]
  },
  {
   "cell_type": "code",
   "execution_count": 44,
   "id": "6c30e860",
   "metadata": {},
   "outputs": [
    {
     "data": {
      "text/plain": [
       "array([1.0905508 , 2.0430906 , 1.26744295, 1.76962463])"
      ]
     },
     "execution_count": 44,
     "metadata": {},
     "output_type": "execute_result"
    }
   ],
   "source": [
    "b.max(axis = 0)"
   ]
  },
  {
   "cell_type": "code",
   "execution_count": 45,
   "id": "86a66faf",
   "metadata": {},
   "outputs": [
    {
     "data": {
      "text/plain": [
       "array([0.46820012, 0.84636249, 0.87180819, 0.99546397, 0.7983952 ,\n",
       "       1.02665423, 1.22323628, 0.41968432, 2.0430906 , 0.96399722,\n",
       "       1.28747708, 1.0905508 , 0.13296293, 1.69939928, 0.49677488,\n",
       "       0.95704862, 1.72599561, 0.88163442, 1.76962463, 0.54785183,\n",
       "       0.9413935 , 0.34590682, 0.52096463, 1.67032878, 0.1492681 ])"
      ]
     },
     "execution_count": 45,
     "metadata": {},
     "output_type": "execute_result"
    }
   ],
   "source": [
    "b.max(axis = 1)"
   ]
  },
  {
   "cell_type": "code",
   "execution_count": null,
   "id": "42a35c85",
   "metadata": {},
   "outputs": [],
   "source": []
  }
 ],
 "metadata": {
  "kernelspec": {
   "display_name": "sci",
   "language": "python",
   "name": "python3"
  },
  "language_info": {
   "codemirror_mode": {
    "name": "ipython",
    "version": 3
   },
   "file_extension": ".py",
   "mimetype": "text/x-python",
   "name": "python",
   "nbconvert_exporter": "python",
   "pygments_lexer": "ipython3",
   "version": "3.13.2"
  }
 },
 "nbformat": 4,
 "nbformat_minor": 5
}
