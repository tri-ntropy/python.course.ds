{
 "cells": [
  {
   "cell_type": "markdown",
   "id": "44bc8a22",
   "metadata": {},
   "source": [
    "# Programación Orientada a Objetos (Herencia)"
   ]
  },
  {
   "cell_type": "code",
   "execution_count": 60,
   "id": "2fdde4f7",
   "metadata": {},
   "outputs": [],
   "source": [
    "import numpy as np\n",
    "import matplotlib.pyplot as plt"
   ]
  },
  {
   "cell_type": "code",
   "execution_count": 61,
   "id": "9f36d806",
   "metadata": {},
   "outputs": [],
   "source": [
    "class Objeto:\n",
    "    def __init__(self, atributo1, atributo2):\n",
    "        self.atributo1 = atributo1\n",
    "        self.atributo2 = atributo2\n",
    "\n",
    "    def metodo(self):\n",
    "        print(\"Este es un metodo\")"
   ]
  },
  {
   "cell_type": "code",
   "execution_count": 62,
   "id": "5d818106",
   "metadata": {},
   "outputs": [],
   "source": [
    "x = Objeto(1, 2)"
   ]
  },
  {
   "cell_type": "code",
   "execution_count": 63,
   "id": "a0adcdc2",
   "metadata": {},
   "outputs": [
    {
     "data": {
      "text/plain": [
       "<__main__.Objeto at 0x713ed395fe00>"
      ]
     },
     "execution_count": 63,
     "metadata": {},
     "output_type": "execute_result"
    }
   ],
   "source": [
    "x"
   ]
  },
  {
   "cell_type": "code",
   "execution_count": 64,
   "id": "be9d0748",
   "metadata": {},
   "outputs": [
    {
     "data": {
      "text/plain": [
       "1"
      ]
     },
     "execution_count": 64,
     "metadata": {},
     "output_type": "execute_result"
    }
   ],
   "source": [
    "x.atributo1"
   ]
  },
  {
   "cell_type": "code",
   "execution_count": 65,
   "id": "343e30e9",
   "metadata": {},
   "outputs": [
    {
     "data": {
      "text/plain": [
       "2"
      ]
     },
     "execution_count": 65,
     "metadata": {},
     "output_type": "execute_result"
    }
   ],
   "source": [
    "x.atributo2"
   ]
  },
  {
   "cell_type": "code",
   "execution_count": 66,
   "id": "dca1f69e",
   "metadata": {},
   "outputs": [
    {
     "name": "stdout",
     "output_type": "stream",
     "text": [
      "Este es un metodo\n"
     ]
    }
   ],
   "source": [
    "x.metodo()"
   ]
  },
  {
   "cell_type": "code",
   "execution_count": 67,
   "id": "af3b077f",
   "metadata": {},
   "outputs": [],
   "source": [
    "class Electrodomestico:\n",
    "    def __init__(self, marca, estado = \"apagado\"):\n",
    "        self.estado = estado\n",
    "        self.marca = marca\n",
    "        self.tipo = \"El electrodomestico\"\n",
    "        self.verbo = \"verbo\"\n",
    "\n",
    "    def encender(self):\n",
    "        if self.estado == \"apagado\":\n",
    "            print(f\"{self.tipo} se encuentra apagado, se va a prender\\n\")\n",
    "            self.estado = \"prendido\"\n",
    "            print(f\"Se prendió {self.tipo.lower()} {self.marca}\")\n",
    "        else:\n",
    "            print(f\"{self.tipo} {self.marca} ya se encontraba prendido\")\n",
    "\n",
    "    def apagar(self):\n",
    "        if self.estado == \"prendido\":\n",
    "            print(f\"{self.tipo} se encuentra prendido, se va a apagar\\n\")\n",
    "            self.estado = \"apagado\"\n",
    "            print(f\"Se apagó {self.tipo.lower()} {self.marca}\")\n",
    "        else:\n",
    "            print(f\"{self.tipo} {self.marca} ya se encontraba apagado\")\n",
    "\n",
    "    def funcion(self, segundos):\n",
    "        if self.estado == \"prendido\":\n",
    "            print(f\"{self.tipo} {self.marca} va a {self.verbo} tu comida por {segundos} segundos\")\n",
    "        else:\n",
    "            print(f\"Enciende primero {self.tipo.lower()} {self.marca}\")"
   ]
  },
  {
   "cell_type": "code",
   "execution_count": 68,
   "id": "6df1f168",
   "metadata": {},
   "outputs": [],
   "source": [
    "class Microondas(Electrodomestico):\n",
    "    def __init__(self, marca, estado = \"apagado\"):\n",
    "        super().__init__(self)\n",
    "        self.marca = marca\n",
    "        self.estado = estado\n",
    "        self.tipo = \"El microondas\"\n",
    "        self.verbo = \"calentar\""
   ]
  },
  {
   "cell_type": "code",
   "execution_count": 69,
   "id": "f2968fb2",
   "metadata": {},
   "outputs": [],
   "source": [
    "class Licuadora(Electrodomestico):\n",
    "    def __init__(self, marca, estado = \"apagado\"):\n",
    "        super().__init__(self)\n",
    "        self.marca = marca\n",
    "        self.estado = estado\n",
    "        self.tipo = \"La licuadora\"\n",
    "        self.verbo = \"licuar\""
   ]
  },
  {
   "cell_type": "code",
   "execution_count": 70,
   "id": "d453e3fb",
   "metadata": {},
   "outputs": [
    {
     "data": {
      "text/plain": [
       "<__main__.Microondas at 0x713ed395f620>"
      ]
     },
     "execution_count": 70,
     "metadata": {},
     "output_type": "execute_result"
    }
   ],
   "source": [
    "x = Microondas(\"LG\")\n",
    "x"
   ]
  },
  {
   "cell_type": "code",
   "execution_count": 71,
   "id": "f6a89584",
   "metadata": {},
   "outputs": [
    {
     "name": "stdout",
     "output_type": "stream",
     "text": [
      "El microondas se encuentra apagado, se va a prender\n",
      "\n",
      "Se prendió el microondas LG\n"
     ]
    }
   ],
   "source": [
    "x.encender()"
   ]
  },
  {
   "cell_type": "code",
   "execution_count": 72,
   "id": "6c48db41",
   "metadata": {},
   "outputs": [
    {
     "name": "stdout",
     "output_type": "stream",
     "text": [
      "El microondas se encuentra prendido, se va a apagar\n",
      "\n",
      "Se apagó el microondas LG\n"
     ]
    }
   ],
   "source": [
    "x.apagar()"
   ]
  },
  {
   "cell_type": "code",
   "execution_count": 73,
   "id": "006a44f0",
   "metadata": {},
   "outputs": [
    {
     "name": "stdout",
     "output_type": "stream",
     "text": [
      "El microondas LG ya se encontraba apagado\n"
     ]
    }
   ],
   "source": [
    "x.apagar()"
   ]
  },
  {
   "cell_type": "code",
   "execution_count": 74,
   "id": "a31115a1",
   "metadata": {},
   "outputs": [
    {
     "name": "stdout",
     "output_type": "stream",
     "text": [
      "El microondas se encuentra apagado, se va a prender\n",
      "\n",
      "Se prendió el microondas LG\n"
     ]
    }
   ],
   "source": [
    "x.encender()"
   ]
  },
  {
   "cell_type": "code",
   "execution_count": 75,
   "id": "1891ba24",
   "metadata": {},
   "outputs": [
    {
     "name": "stdout",
     "output_type": "stream",
     "text": [
      "El microondas LG ya se encontraba prendido\n"
     ]
    }
   ],
   "source": [
    "x.encender()"
   ]
  },
  {
   "cell_type": "code",
   "execution_count": 76,
   "id": "3305bd4d",
   "metadata": {},
   "outputs": [
    {
     "name": "stdout",
     "output_type": "stream",
     "text": [
      "El microondas LG va a calentar tu comida por 20 segundos\n"
     ]
    }
   ],
   "source": [
    "x.funcion(20)"
   ]
  },
  {
   "cell_type": "code",
   "execution_count": 77,
   "id": "a051f7be",
   "metadata": {},
   "outputs": [
    {
     "data": {
      "text/plain": [
       "<__main__.Licuadora at 0x713ed395f230>"
      ]
     },
     "execution_count": 77,
     "metadata": {},
     "output_type": "execute_result"
    }
   ],
   "source": [
    "x = Licuadora(\"LG\")\n",
    "x"
   ]
  },
  {
   "cell_type": "code",
   "execution_count": 78,
   "id": "e5db1035",
   "metadata": {},
   "outputs": [
    {
     "name": "stdout",
     "output_type": "stream",
     "text": [
      "La licuadora se encuentra apagado, se va a prender\n",
      "\n",
      "Se prendió la licuadora LG\n"
     ]
    }
   ],
   "source": [
    "x.encender()"
   ]
  },
  {
   "cell_type": "code",
   "execution_count": 79,
   "id": "d649401a",
   "metadata": {},
   "outputs": [
    {
     "name": "stdout",
     "output_type": "stream",
     "text": [
      "La licuadora LG va a licuar tu comida por 20 segundos\n"
     ]
    }
   ],
   "source": [
    "x.funcion(20)"
   ]
  },
  {
   "cell_type": "code",
   "execution_count": 80,
   "id": "bbda823b",
   "metadata": {},
   "outputs": [],
   "source": [
    "class simulacion:\n",
    "    def __init__(self, t0, tf, x0, v0, n, fuerza = lambda x, i: 0, inicializado = False):\n",
    "        self.t0 = t0\n",
    "        self.tf = tf\n",
    "        self.x0 = x0\n",
    "        self.v0 = v0\n",
    "        self.n = n\n",
    "        self.fuerza = fuerza\n",
    "        self.inicializado = inicializado\n",
    "\n",
    "        self.desplazamiento = np.zeros(self.n + 1)\n",
    "        self.velocidad = np.zeros(self.n + 1)\n",
    "\n",
    "        self.tiempo, self.paso_tiempo = np.linspace(self.t0, self.tf, self.n + 1, retstep = True)\n",
    "\n",
    "    def inicializacion(self):\n",
    "        if self.inicializado:\n",
    "            print(\"La simulación ya está inicializada\")\n",
    "        else:\n",
    "            self.inicializado = True\n",
    "            self.desplazamiento[0] = self.x0\n",
    "            self.velocidad[0] = self.v0\n",
    "            print(f\"Se inicializó la simulación con los valores x0 = {self.x0} y v0 = {self.v0}\")\n",
    "\n",
    "    def graficar_desplazamiento(self):\n",
    "        plt.figure(figsize = (8, 5))\n",
    "        plt.plot(self.tiempo, self.desplazamiento)\n",
    "        plt.xlabel(\"Tiempo\")\n",
    "        plt.ylabel(\"Desplazamiento\")\n",
    "        plt.show()\n",
    "\n",
    "    def graficar_velocidad(self):\n",
    "        plt.figure(figsize = (8, 5))\n",
    "        plt.plot(self.tiempo, self.velocidad)\n",
    "        plt.xlabel(\"Tiempo\")\n",
    "        plt.ylabel(\"Velocidad\")\n",
    "        plt.show()\n",
    "\n",
    "    def tecnica(self):\n",
    "        pass\n",
    "  \n",
    "    def proceso(self):\n",
    "        print(\"Se va a realizar el proceso de simulación\")\n",
    "        print()\n",
    "\n",
    "        self.inicializacion()\n",
    "        self.tecnica()\n",
    "        self.graficar_desplazamiento()\n",
    "        self.graficar_velocidad()\n",
    "\n",
    "        print()\n",
    "        print(\"Se terminó el proceso de simulación\")\n"
   ]
  },
  {
   "cell_type": "code",
   "execution_count": 81,
   "id": "358270a1",
   "metadata": {},
   "outputs": [],
   "source": [
    "class Euler(simulacion):\n",
    "    def __init__(self, t0, tf, x0, v0, n, fuerza = lambda x, v, i : 0, inicializado = False):\n",
    "        super().__init__(t0, tf, x0, v0, n, fuerza = lambda x, v, i : 0, inicializado = False)\n",
    "        self.t0 = t0\n",
    "        self.tf = tf\n",
    "        self.x0 = x0\n",
    "        self.v0 = v0\n",
    "        self.n = n\n",
    "        self.fuerza = fuerza\n",
    "        self.inicializado = inicializado\n",
    "\n",
    "        self.desplazamiento = np.zeros(self.n + 1)\n",
    "        self.velocidad = np.zeros(self.n + 1)\n",
    "\n",
    "        self.tiempo, self.paso_tiempo = np.linspace(self.t0, self.tf, self.n + 1, retstep = True)\n",
    "\n",
    "    def tecnica(self):\n",
    "        if self.inicializado:\n",
    "            for i in range(1, self.n + 1):\n",
    "                self.velocidad[i] = self.velocidad[i - 1] + self.paso_tiempo * self.fuerza(self.desplazamiento, self.velocidad, i)\n",
    "                self.desplazamiento[i] = self.desplazamiento[i - 1] + self.paso_tiempo * self.velocidad[i]\n",
    "\n",
    "        else:\n",
    "            print(\"Primero inicializa la simulación\")\n",
    "    \n",
    "    def __str__(self):\n",
    "        return f\"Esta es una simulación por el método de Euler, inicializada : {self.inicializado}\""
   ]
  },
  {
   "cell_type": "code",
   "execution_count": 82,
   "id": "c3eff30e",
   "metadata": {},
   "outputs": [],
   "source": [
    "class RungeKutta(simulacion):\n",
    "    def __init__(self, t0, tf, x0, v0, n, fuerza = lambda x, v, i : 0, inicializado = False):\n",
    "        super().__init__(t0, tf, x0, v0, n, fuerza = lambda x, v, i : 0, inicializado = False)\n",
    "        self.t0 = t0\n",
    "        self.tf = tf\n",
    "        self.x0 = x0\n",
    "        self.v0 = v0\n",
    "        self.n = n\n",
    "        self.fuerza = fuerza\n",
    "        self.inicializado = inicializado\n",
    "\n",
    "        self.desplazamiento = np.zeros(self.n + 1)\n",
    "        self.velocidad = np.zeros(self.n + 1)\n",
    "\n",
    "        self.tiempo, self.paso_tiempo = np.linspace(self.t0, self.tf, self.n + 1, retstep = True)\n",
    "\n",
    "    def tecnica(self):\n",
    "        if self.inicializado:\n",
    "            for i in range(1, self.n + 1):\n",
    "                k1 = self.fuerza(self.desplazamiento, self.velocidad, i - 1)\n",
    "                k2 = self.fuerza(self.desplazamiento, self.velocidad + k1 / 2, i - 1)\n",
    "                k3 = self.fuerza(self.desplazamiento, self.velocidad + k2 / 2, i - 1)\n",
    "                k4 = self.fuerza(self.desplazamiento, self.velocidad + k3, i - 1)\n",
    "                self.velocidad[i] = self.velocidad[i - 1] + (self.paso_tiempo * (k1 + 2 * k2 + 2 * k3 + k4)) / 6\n",
    "                self.desplazamiento[i] = self.desplazamiento[i - 1] + self.paso_tiempo * self.velocidad[i]\n",
    "\n",
    "        else:\n",
    "            print(\"Primero inicializa la simulación\")\n",
    "\n",
    "    def __str__(self):\n",
    "        return f\"Esta es una simulación por el método de Runge-Kutta, inicializada : {self.inicializado}\""
   ]
  },
  {
   "cell_type": "code",
   "execution_count": 83,
   "id": "aabbaf32",
   "metadata": {},
   "outputs": [
    {
     "name": "stdout",
     "output_type": "stream",
     "text": [
      "Esta es una simulación por el método de Euler, inicializada : False\n"
     ]
    }
   ],
   "source": [
    "x = Euler(0, 10, 0, 1, 10000)\n",
    "print(x)"
   ]
  },
  {
   "cell_type": "code",
   "execution_count": 84,
   "id": "654cc77c",
   "metadata": {},
   "outputs": [
    {
     "name": "stdout",
     "output_type": "stream",
     "text": [
      "Se inicializó la simulación con los valores x0 = 0 y v0 = 1\n"
     ]
    }
   ],
   "source": [
    "x.inicializacion()"
   ]
  },
  {
   "cell_type": "code",
   "execution_count": 85,
   "id": "29967cc4",
   "metadata": {},
   "outputs": [
    {
     "data": {
      "text/plain": [
       "array([1., 0., 0., ..., 0., 0., 0.], shape=(10001,))"
      ]
     },
     "execution_count": 85,
     "metadata": {},
     "output_type": "execute_result"
    }
   ],
   "source": [
    "x.velocidad"
   ]
  },
  {
   "cell_type": "code",
   "execution_count": 86,
   "id": "0d2d30f3",
   "metadata": {},
   "outputs": [
    {
     "name": "stdout",
     "output_type": "stream",
     "text": [
      "Se va a realizar el proceso de simulación\n",
      "\n",
      "La simulación ya está inicializada\n"
     ]
    },
    {
     "data": {
      "image/png": "[encoded data removed]",
      "text/plain": [
       "<Figure size 800x500 with 1 Axes>"
      ]
     },
     "metadata": {},
     "output_type": "display_data"
    },
    {
     "data": {
      "image/png": "[encoded data removed]",
      "text/plain": [
       "<Figure size 800x500 with 1 Axes>"
      ]
     },
     "metadata": {},
     "output_type": "display_data"
    },
    {
     "name": "stdout",
     "output_type": "stream",
     "text": [
      "\n",
      "Se terminó el proceso de simulación\n"
     ]
    }
   ],
   "source": [
    "x.proceso()"
   ]
  },
  {
   "cell_type": "code",
   "execution_count": 87,
   "id": "52e0edd4",
   "metadata": {},
   "outputs": [
    {
     "name": "stdout",
     "output_type": "stream",
     "text": [
      "Esta es una simulación por el método de Runge-Kutta, inicializada : False\n"
     ]
    }
   ],
   "source": [
    "fuerza = lambda x, v, i : -x[i - 1] if i <= 3000 else - x[i - 1] - v[i - 1]\n",
    "x = RungeKutta(0, 100, 0, 1, 20000, fuerza = fuerza )\n",
    "print(x)"
   ]
  },
  {
   "cell_type": "code",
   "execution_count": 88,
   "id": "c6699aca",
   "metadata": {},
   "outputs": [
    {
     "name": "stdout",
     "output_type": "stream",
     "text": [
      "Se va a realizar el proceso de simulación\n",
      "\n",
      "Se inicializó la simulación con los valores x0 = 0 y v0 = 1\n"
     ]
    },
    {
     "data": {
      "image/png": "[encoded data removed]",
      "text/plain": [
       "<Figure size 800x500 with 1 Axes>"
      ]
     },
     "metadata": {},
     "output_type": "display_data"
    },
    {
     "data": {
      "image/png": "[encoded data removed]",
      "text/plain": [
       "<Figure size 800x500 with 1 Axes>"
      ]
     },
     "metadata": {},
     "output_type": "display_data"
    },
    {
     "name": "stdout",
     "output_type": "stream",
     "text": [
      "\n",
      "Se terminó el proceso de simulación\n"
     ]
    }
   ],
   "source": [
    "x.proceso()"
   ]
  },
  {
   "cell_type": "code",
   "execution_count": null,
   "id": "b382b898",
   "metadata": {},
   "outputs": [],
   "source": []
  }
 ],
 "metadata": {
  "kernelspec": {
   "display_name": "sci",
   "language": "python",
   "name": "python3"
  },
  "language_info": {
   "codemirror_mode": {
    "name": "ipython",
    "version": 3
   },
   "file_extension": ".py",
   "mimetype": "text/x-python",
   "name": "python",
   "nbconvert_exporter": "python",
   "pygments_lexer": "ipython3",
   "version": "3.13.2"
  }
 },
 "nbformat": 4,
 "nbformat_minor": 5
}
